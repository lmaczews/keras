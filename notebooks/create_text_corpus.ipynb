{
 "cells": [
  {
   "cell_type": "code",
   "execution_count": 1,
   "id": "4240c412-884e-4ec4-98e7-31b93fba8203",
   "metadata": {},
   "outputs": [],
   "source": [
    "%load_ext autoreload\n",
    "%autoreload 2"
   ]
  },
  {
   "cell_type": "code",
   "execution_count": 2,
   "id": "354ddf68-dc16-4ecd-9061-afa277b7d4ec",
   "metadata": {},
   "outputs": [],
   "source": [
    "import sys\n",
    "from pathlib import Path\n",
    "sys.path.append('..')"
   ]
  },
  {
   "cell_type": "code",
   "execution_count": 3,
   "id": "d3f1f1ca-3b2b-46fd-a89e-4a21a8c73013",
   "metadata": {},
   "outputs": [],
   "source": [
    "from kst.data_sets.TextDocument import TextDocument"
   ]
  },
  {
   "cell_type": "markdown",
   "id": "7fb79382-0be5-4840-bdab-870e4ad0b51a",
   "metadata": {},
   "source": [
    "# Load single text document and get some info "
   ]
  },
  {
   "cell_type": "code",
   "execution_count": 4,
   "id": "6b779cad-72ff-4c20-9b74-d5dc0b91e780",
   "metadata": {},
   "outputs": [],
   "source": [
    "td = TextDocument(\"/Users/lukaszmaczewski/Documents/Learning/DeepNeuralNetworks/keras/data/txt_sentoken/neg/cv000_29416.txt\", 0)"
   ]
  },
  {
   "cell_type": "code",
   "execution_count": 5,
   "id": "0fb4c974-8e61-4679-8711-2705d336c384",
   "metadata": {},
   "outputs": [
    {
     "data": {
      "text/plain": [
       "0"
      ]
     },
     "execution_count": 5,
     "metadata": {},
     "output_type": "execute_result"
    }
   ],
   "source": [
    "td.doc_label"
   ]
  },
  {
   "cell_type": "code",
   "execution_count": 6,
   "id": "88d9b413-6201-41cb-a935-6ff936d0e74b",
   "metadata": {},
   "outputs": [
    {
     "data": {
      "text/plain": [
       "'cv000_29416.txt'"
      ]
     },
     "execution_count": 6,
     "metadata": {},
     "output_type": "execute_result"
    }
   ],
   "source": [
    "td.doc_description"
   ]
  },
  {
   "cell_type": "markdown",
   "id": "caaef79e-a3d9-4854-ac35-b934e8e08d1c",
   "metadata": {},
   "source": [
    "### Read data without tokenizer"
   ]
  },
  {
   "cell_type": "code",
   "execution_count": 7,
   "id": "92e74fda-168a-420f-b246-ad636c1187a6",
   "metadata": {},
   "outputs": [],
   "source": [
    "raw_text = td.read_document()"
   ]
  },
  {
   "cell_type": "code",
   "execution_count": 8,
   "id": "7be89fff-1564-4e57-9f89-56233d8d8b32",
   "metadata": {},
   "outputs": [
    {
     "data": {
      "text/plain": [
       "'plot : two teen couples go to a church party , drink and then drive . \\nthey get into an accident . \\none of the guys dies , but his girlfriend continues to see him in her life , and has nightmares . \\nwhat\\'s the deal ? \\nwatch the movie and \" sorta \" find out . . . \\ncritique : a mind-fuck movie for the teen generation that touches on a very cool idea , but presents it in a very bad package . \\nwhich is what makes this review an even harder one to write , since i generally applaud films which attempt to break the mold , mess with your head and such ( lost highway & memento ) , but there are good and bad ways of making all types of films , and these folks just didn\\'t snag this one correctly . \\nthey seem to have taken this pretty neat concept , but executed it terribly . \\nso what are the problems with the movie ? \\nwell , its main problem is that it\\'s simply too jumbled . \\nit starts off \" normal \" but then downshifts into this \" fantasy \" world in which you , as an audience member , have no idea what\\'s going on . \\nthere are dreams , there are characters coming back from the dead , there are others who look like the dead , there are strange apparitions , there are disappearances , there are a looooot of chase scenes , there are tons of weird things that happen , and most of it is simply not explained . \\nnow i personally don\\'t mind trying to unravel a film every now and then , but when all it does is give me the same clue over and over again , i get kind of fed up after a while , which is this film\\'s biggest problem . \\nit\\'s obviously got this big secret to hide , but it seems to want to hide it completely until its final five minutes . \\nand do they make things entertaining , thrilling or even engaging , in the meantime ? \\nnot really . \\nthe sad part is that the arrow and i both dig on flicks like this , so we actually figured most of it out by the half-way point , so all of the strangeness after that did start to make a little bit of sense , but it still didn\\'t the make the film all that more entertaining . \\ni guess the bottom line with movies like this is that you should always make sure that the audience is \" into it \" even before they are given the secret password to enter your world of understanding . \\ni mean , showing melissa sagemiller running away from visions for about 20 minutes throughout the movie is just plain lazy ! ! \\nokay , we get it . . . there \\nare people chasing her and we don\\'t know who they are . \\ndo we really need to see it over and over again ? \\nhow about giving us different scenes offering further insight into all of the strangeness going down in the movie ? \\napparently , the studio took this film away from its director and chopped it up themselves , and it shows . \\nthere might\\'ve been a pretty decent teen mind-fuck movie in here somewhere , but i guess \" the suits \" decided that turning it into a music video with little edge , would make more sense . \\nthe actors are pretty good for the most part , although wes bentley just seemed to be playing the exact same character that he did in american beauty , only in a new neighborhood . \\nbut my biggest kudos go out to sagemiller , who holds her own throughout the entire film , and actually has you feeling her character\\'s unraveling . \\noverall , the film doesn\\'t stick because it doesn\\'t entertain , it\\'s confusing , it rarely excites and it feels pretty redundant for most of its runtime , despite a pretty cool ending and explanation to all of the craziness that came before it . \\noh , and by the way , this is not a horror or teen slasher flick . . . it\\'s \\njust packaged to look that way because someone is apparently assuming that the genre is still hot with the kids . \\nit also wrapped production two years ago and has been sitting on the shelves ever since . \\nwhatever . . . skip \\nit ! \\nwhere\\'s joblo coming from ? \\na nightmare of elm street 3 ( 7/10 ) - blair witch 2 ( 7/10 ) - the crow ( 9/10 ) - the crow : salvation ( 4/10 ) - lost highway ( 10/10 ) - memento ( 10/10 ) - the others ( 9/10 ) - stir of echoes ( 8/10 ) \\n'"
      ]
     },
     "execution_count": 8,
     "metadata": {},
     "output_type": "execute_result"
    }
   ],
   "source": [
    "raw_text"
   ]
  },
  {
   "cell_type": "code",
   "execution_count": 9,
   "id": "1be8601c-3d78-4233-af0f-6782d17888a2",
   "metadata": {},
   "outputs": [
    {
     "data": {
      "text/plain": [
       "defaultdict(int, {})"
      ]
     },
     "execution_count": 9,
     "metadata": {},
     "output_type": "execute_result"
    }
   ],
   "source": [
    "td.token_count"
   ]
  },
  {
   "cell_type": "markdown",
   "id": "5dbe7fe5-c74c-4586-9d3e-21e5d64f72cb",
   "metadata": {},
   "source": [
    "### Raed data using gensim tokenizer"
   ]
  },
  {
   "cell_type": "code",
   "execution_count": 10,
   "id": "cb9e816c-3099-4d6b-8ac9-435e9b130457",
   "metadata": {},
   "outputs": [],
   "source": [
    "from gensim.parsing.preprocessing import (\n",
    "    strip_tags,\n",
    "    strip_punctuation,\n",
    "    strip_multiple_whitespaces,\n",
    "    remove_stopwords,\n",
    "    strip_short,\n",
    "    strip_numeric,\n",
    "    stem_text\n",
    ")"
   ]
  },
  {
   "cell_type": "code",
   "execution_count": 11,
   "id": "d34f606f-ddbd-4167-aeb6-5206a4ee47df",
   "metadata": {},
   "outputs": [],
   "source": [
    "GENSIM_CUSTOM_TEKENIZER = [\n",
    "            lambda x: x.lower(),\n",
    "            strip_tags,\n",
    "            strip_punctuation,\n",
    "            strip_multiple_whitespaces,\n",
    "            remove_stopwords,\n",
    "            lambda x: strip_short(x, minsize=2),\n",
    "            strip_numeric,\n",
    "        ]"
   ]
  },
  {
   "cell_type": "code",
   "execution_count": 12,
   "id": "5c178136-aa52-4b11-a462-d01378880b23",
   "metadata": {},
   "outputs": [],
   "source": [
    "tokenized_text = td.read_document(gensim_custom_tokenizer=GENSIM_CUSTOM_TEKENIZER)"
   ]
  },
  {
   "cell_type": "code",
   "execution_count": 13,
   "id": "88aecef2-437e-41ec-bcd4-09db569437f0",
   "metadata": {},
   "outputs": [
    {
     "data": {
      "text/plain": [
       "dict_keys(['plot', 'teen', 'couples', 'church', 'party', 'drink', 'drive', 'accident', 'guys', 'dies', 'girlfriend', 'continues', 'life', 'nightmares', 'deal', 'watch', 'movie', 'sorta', 'critique', 'mind', 'fuck', 'generation', 'touches', 'cool', 'idea', 'presents', 'bad', 'package', 'makes', 'review', 'harder', 'write', 'generally', 'applaud', 'films', 'attempt', 'break', 'mold', 'mess', 'head', 'lost', 'highway', 'memento', 'good', 'ways', 'making', 'types', 'folks', 'snag', 'correctly', 'taken', 'pretty', 'neat', 'concept', 'executed', 'terribly', 'problems', 'main', 'problem', 'simply', 'jumbled', 'starts', 'normal', 'downshifts', 'fantasy', 'world', 'audience', 'member', 'going', 'dreams', 'characters', 'coming', 'dead', 'look', 'like', 'strange', 'apparitions', 'disappearances', 'looooot', 'chase', 'scenes', 'tons', 'weird', 'things', 'happen', 'explained', 'personally', 'trying', 'unravel', 'film', 'clue', 'kind', 'fed', 'biggest', 'obviously', 'got', 'big', 'secret', 'hide', 'want', 'completely', 'final', 'minutes', 'entertaining', 'thrilling', 'engaging', 'meantime', 'sad', 'arrow', 'dig', 'flicks', 'actually', 'figured', 'half', 'way', 'point', 'strangeness', 'start', 'little', 'bit', 'sense', 'guess', 'line', 'movies', 'sure', 'given', 'password', 'enter', 'understanding', 'mean', 'showing', 'melissa', 'sagemiller', 'running', 'away', 'visions', 'plain', 'lazy', 'okay', 'people', 'chasing', 'know', 'need', 'giving', 'different', 'offering', 'insight', 'apparently', 'studio', 'took', 'director', 'chopped', 'shows', 've', 'decent', 'suits', 'decided', 'turning', 'music', 'video', 'edge', 'actors', 'wes', 'bentley', 'playing', 'exact', 'character', 'american', 'beauty', 'new', 'neighborhood', 'kudos', 'holds', 'entire', 'feeling', 'unraveling', 'overall', 'stick', 'entertain', 'confusing', 'rarely', 'excites', 'feels', 'redundant', 'runtime', 'despite', 'ending', 'explanation', 'craziness', 'came', 'oh', 'horror', 'slasher', 'flick', 'packaged', 'assuming', 'genre', 'hot', 'kids', 'wrapped', 'production', 'years', 'ago', 'sitting', 'shelves', 'skip', 'joblo', 'nightmare', 'elm', 'street', 'blair', 'witch', 'crow', 'salvation', 'stir', 'echoes'])"
      ]
     },
     "execution_count": 13,
     "metadata": {},
     "output_type": "execute_result"
    }
   ],
   "source": [
    "td.vocabulary"
   ]
  },
  {
   "cell_type": "code",
   "execution_count": 14,
   "id": "be590660-c95f-4fe7-822a-df3346e5092f",
   "metadata": {},
   "outputs": [
    {
     "data": {
      "text/plain": [
       "['plot',\n",
       " 'teen',\n",
       " 'couples',\n",
       " 'church',\n",
       " 'party',\n",
       " 'drink',\n",
       " 'drive',\n",
       " 'accident',\n",
       " 'guys',\n",
       " 'dies']"
      ]
     },
     "execution_count": 14,
     "metadata": {},
     "output_type": "execute_result"
    }
   ],
   "source": [
    "tokenized_text[0:10]"
   ]
  },
  {
   "cell_type": "code",
   "execution_count": 15,
   "id": "c4ec4401-b74e-4f29-ac1c-51445b4c5cb5",
   "metadata": {},
   "outputs": [
    {
     "data": {
      "text/plain": [
       "dict_items([('plot', 1), ('teen', 4), ('couples', 1), ('church', 1), ('party', 1), ('drink', 1), ('drive', 1), ('accident', 1), ('guys', 1), ('dies', 1), ('girlfriend', 1), ('continues', 1), ('life', 1), ('nightmares', 1), ('deal', 1), ('watch', 1), ('movie', 6), ('sorta', 1), ('critique', 1), ('mind', 3), ('fuck', 2), ('generation', 1), ('touches', 1), ('cool', 2), ('idea', 2), ('presents', 1), ('bad', 2), ('package', 1), ('makes', 1), ('review', 1), ('harder', 1), ('write', 1), ('generally', 1), ('applaud', 1), ('films', 2), ('attempt', 1), ('break', 1), ('mold', 1), ('mess', 1), ('head', 1), ('lost', 2), ('highway', 2), ('memento', 2), ('good', 2), ('ways', 1), ('making', 1), ('types', 1), ('folks', 1), ('snag', 1), ('correctly', 1), ('taken', 1), ('pretty', 5), ('neat', 1), ('concept', 1), ('executed', 1), ('terribly', 1), ('problems', 1), ('main', 1), ('problem', 2), ('simply', 2), ('jumbled', 1), ('starts', 1), ('normal', 1), ('downshifts', 1), ('fantasy', 1), ('world', 2), ('audience', 2), ('member', 1), ('going', 2), ('dreams', 1), ('characters', 1), ('coming', 2), ('dead', 2), ('look', 2), ('like', 3), ('strange', 1), ('apparitions', 1), ('disappearances', 1), ('looooot', 1), ('chase', 1), ('scenes', 2), ('tons', 1), ('weird', 1), ('things', 2), ('happen', 1), ('explained', 1), ('personally', 1), ('trying', 1), ('unravel', 1), ('film', 6), ('clue', 1), ('kind', 1), ('fed', 1), ('biggest', 2), ('obviously', 1), ('got', 1), ('big', 1), ('secret', 2), ('hide', 2), ('want', 1), ('completely', 1), ('final', 1), ('minutes', 2), ('entertaining', 2), ('thrilling', 1), ('engaging', 1), ('meantime', 1), ('sad', 1), ('arrow', 1), ('dig', 1), ('flicks', 1), ('actually', 2), ('figured', 1), ('half', 1), ('way', 3), ('point', 1), ('strangeness', 2), ('start', 1), ('little', 2), ('bit', 1), ('sense', 2), ('guess', 2), ('line', 1), ('movies', 1), ('sure', 1), ('given', 1), ('password', 1), ('enter', 1), ('understanding', 1), ('mean', 1), ('showing', 1), ('melissa', 1), ('sagemiller', 2), ('running', 1), ('away', 2), ('visions', 1), ('plain', 1), ('lazy', 1), ('okay', 1), ('people', 1), ('chasing', 1), ('know', 1), ('need', 1), ('giving', 1), ('different', 1), ('offering', 1), ('insight', 1), ('apparently', 2), ('studio', 1), ('took', 1), ('director', 1), ('chopped', 1), ('shows', 1), ('ve', 1), ('decent', 1), ('suits', 1), ('decided', 1), ('turning', 1), ('music', 1), ('video', 1), ('edge', 1), ('actors', 1), ('wes', 1), ('bentley', 1), ('playing', 1), ('exact', 1), ('character', 2), ('american', 1), ('beauty', 1), ('new', 1), ('neighborhood', 1), ('kudos', 1), ('holds', 1), ('entire', 1), ('feeling', 1), ('unraveling', 1), ('overall', 1), ('stick', 1), ('entertain', 1), ('confusing', 1), ('rarely', 1), ('excites', 1), ('feels', 1), ('redundant', 1), ('runtime', 1), ('despite', 1), ('ending', 1), ('explanation', 1), ('craziness', 1), ('came', 1), ('oh', 1), ('horror', 1), ('slasher', 1), ('flick', 1), ('packaged', 1), ('assuming', 1), ('genre', 1), ('hot', 1), ('kids', 1), ('wrapped', 1), ('production', 1), ('years', 1), ('ago', 1), ('sitting', 1), ('shelves', 1), ('skip', 1), ('joblo', 1), ('nightmare', 1), ('elm', 1), ('street', 1), ('blair', 1), ('witch', 1), ('crow', 2), ('salvation', 1), ('stir', 1), ('echoes', 1)])"
      ]
     },
     "execution_count": 15,
     "metadata": {},
     "output_type": "execute_result"
    }
   ],
   "source": [
    "td.token_count.items()"
   ]
  },
  {
   "cell_type": "code",
   "execution_count": 16,
   "id": "f4d29d6e-56c1-49a5-a947-157b7314bc47",
   "metadata": {},
   "outputs": [
    {
     "data": {
      "text/plain": [
       "['movie', 'film', 'pretty', 'teen', 'mind']"
      ]
     },
     "execution_count": 16,
     "metadata": {},
     "output_type": "execute_result"
    }
   ],
   "source": [
    "td.get_n_top_tokens(n = 5)"
   ]
  },
  {
   "cell_type": "code",
   "execution_count": 17,
   "id": "7cf79efa-b9bb-4a7c-9f5e-bf027d123cab",
   "metadata": {},
   "outputs": [
    {
     "data": {
      "text/plain": [
       "['plot', 'couples', 'church', 'party', 'drink']"
      ]
     },
     "execution_count": 17,
     "metadata": {},
     "output_type": "execute_result"
    }
   ],
   "source": [
    "td.get_n_bottom_tokens(n = 5)"
   ]
  },
  {
   "cell_type": "code",
   "execution_count": 18,
   "id": "1f677034-e812-4303-88bc-4ea0ba629674",
   "metadata": {},
   "outputs": [
    {
     "data": {
      "text/plain": [
       "['movie', 'film']"
      ]
     },
     "execution_count": 18,
     "metadata": {},
     "output_type": "execute_result"
    }
   ],
   "source": [
    "td.get_frequent_tokens(6)"
   ]
  },
  {
   "cell_type": "code",
   "execution_count": 19,
   "id": "aa8e5b2a-e214-4a4a-adc2-68e92d7c12d0",
   "metadata": {},
   "outputs": [
    {
     "data": {
      "text/plain": [
       "6"
      ]
     },
     "execution_count": 19,
     "metadata": {},
     "output_type": "execute_result"
    }
   ],
   "source": [
    "td.get_token_frequency('film')"
   ]
  },
  {
   "cell_type": "markdown",
   "id": "9d4c559b-76ef-4992-8d84-2052dc143efc",
   "metadata": {},
   "source": [
    "# Read data using generator"
   ]
  },
  {
   "cell_type": "code",
   "execution_count": 20,
   "id": "2ea28bfd-83f7-4b33-9ae9-eae2fc124fca",
   "metadata": {},
   "outputs": [],
   "source": [
    "raw_text = \"\""
   ]
  },
  {
   "cell_type": "code",
   "execution_count": 21,
   "id": "71ff360a-af57-4946-804b-f7824d4948d3",
   "metadata": {},
   "outputs": [
    {
     "name": "stdout",
     "output_type": "stream",
     "text": [
      "plot : two teen couples go to a church party , drink and then drive . \n",
      "they get into an accident . \n",
      "one of the guys dies , but his girlfriend continues to see him in her life , and has nightmares . \n",
      "what's the deal ? \n",
      "watch the movie and \" sorta \" find out . . . \n",
      "\n",
      "critique : a mind-fuck movie for the teen generation that touches on a very cool idea , but presents it in a very bad package . \n",
      "which is what makes this review an even harder one to write , since i generally applaud films which attempt to break the mold , mess with your head and such ( lost highway & memento ) , but there are good and bad ways of making all types of films , and these folks just didn't snag this one correctly . \n",
      "they seem to have taken this pretty neat concept , but executed it terribly . \n",
      "so what are the problems with the movie ? \n",
      "well , its main problem is that it's simply too jumbled . \n",
      "\n",
      "it starts off \" normal \" but then downshifts into this \" fantasy \" world in which you , as an audience member , have no idea what's going on . \n",
      "there are dreams , there are characters coming back from the dead , there are others who look like the dead , there are strange apparitions , there are disappearances , there are a looooot of chase scenes , there are tons of weird things that happen , and most of it is simply not explained . \n",
      "now i personally don't mind trying to unravel a film every now and then , but when all it does is give me the same clue over and over again , i get kind of fed up after a while , which is this film's biggest problem . \n",
      "it's obviously got this big secret to hide , but it seems to want to hide it completely until its final five minutes . \n",
      "and do they make things entertaining , thrilling or even engaging , in the meantime ? \n",
      "\n",
      "not really . \n",
      "the sad part is that the arrow and i both dig on flicks like this , so we actually figured most of it out by the half-way point , so all of the strangeness after that did start to make a little bit of sense , but it still didn't the make the film all that more entertaining . \n",
      "i guess the bottom line with movies like this is that you should always make sure that the audience is \" into it \" even before they are given the secret password to enter your world of understanding . \n",
      "i mean , showing melissa sagemiller running away from visions for about 20 minutes throughout the movie is just plain lazy ! ! \n",
      "okay , we get it . . . there \n",
      "\n",
      "are people chasing her and we don't know who they are . \n",
      "do we really need to see it over and over again ? \n",
      "how about giving us different scenes offering further insight into all of the strangeness going down in the movie ? \n",
      "apparently , the studio took this film away from its director and chopped it up themselves , and it shows . \n",
      "there might've been a pretty decent teen mind-fuck movie in here somewhere , but i guess \" the suits \" decided that turning it into a music video with little edge , would make more sense . \n",
      "\n",
      "the actors are pretty good for the most part , although wes bentley just seemed to be playing the exact same character that he did in american beauty , only in a new neighborhood . \n",
      "but my biggest kudos go out to sagemiller , who holds her own throughout the entire film , and actually has you feeling her character's unraveling . \n",
      "overall , the film doesn't stick because it doesn't entertain , it's confusing , it rarely excites and it feels pretty redundant for most of its runtime , despite a pretty cool ending and explanation to all of the craziness that came before it . \n",
      "oh , and by the way , this is not a horror or teen slasher flick . . . it's \n",
      "just packaged to look that way because someone is apparently assuming that the genre is still hot with the kids . \n",
      "\n",
      "it also wrapped production two years ago and has been sitting on the shelves ever since . \n",
      "whatever . . . skip \n",
      "it ! \n",
      "where's joblo coming from ? \n",
      "a nightmare of elm street 3 ( 7/10 ) - blair witch 2 ( 7/10 ) - the crow ( 9/10 ) - the crow : salvation ( 4/10 ) - lost highway ( 10/10 ) - memento ( 10/10 ) - the others ( 9/10 ) - stir of echoes ( 8/10 ) \n",
      "\n",
      "\n"
     ]
    }
   ],
   "source": [
    "for batch in td.read_document_gen(batch_size=5):\n",
    "    raw_text += batch\n",
    "    print(batch)"
   ]
  },
  {
   "cell_type": "code",
   "execution_count": 22,
   "id": "2b922423-5191-4f40-940c-7bbbe80a16f8",
   "metadata": {},
   "outputs": [
    {
     "data": {
      "text/plain": [
       "'plot : two teen couples go to a church party , drink and then drive . \\nthey get into an accident . \\none of the guys dies , but his girlfriend continues to see him in her life , and has nightmares . \\nwhat\\'s the deal ? \\nwatch the movie and \" sorta \" find out . . . \\ncritique : a mind-fuck movie for the teen generation that touches on a very cool idea , but presents it in a very bad package . \\nwhich is what makes this review an even harder one to write , since i generally applaud films which attempt to break the mold , mess with your head and such ( lost highway & memento ) , but there are good and bad ways of making all types of films , and these folks just didn\\'t snag this one correctly . \\nthey seem to have taken this pretty neat concept , but executed it terribly . \\nso what are the problems with the movie ? \\nwell , its main problem is that it\\'s simply too jumbled . \\nit starts off \" normal \" but then downshifts into this \" fantasy \" world in which you , as an audience member , have no idea what\\'s going on . \\nthere are dreams , there are characters coming back from the dead , there are others who look like the dead , there are strange apparitions , there are disappearances , there are a looooot of chase scenes , there are tons of weird things that happen , and most of it is simply not explained . \\nnow i personally don\\'t mind trying to unravel a film every now and then , but when all it does is give me the same clue over and over again , i get kind of fed up after a while , which is this film\\'s biggest problem . \\nit\\'s obviously got this big secret to hide , but it seems to want to hide it completely until its final five minutes . \\nand do they make things entertaining , thrilling or even engaging , in the meantime ? \\nnot really . \\nthe sad part is that the arrow and i both dig on flicks like this , so we actually figured most of it out by the half-way point , so all of the strangeness after that did start to make a little bit of sense , but it still didn\\'t the make the film all that more entertaining . \\ni guess the bottom line with movies like this is that you should always make sure that the audience is \" into it \" even before they are given the secret password to enter your world of understanding . \\ni mean , showing melissa sagemiller running away from visions for about 20 minutes throughout the movie is just plain lazy ! ! \\nokay , we get it . . . there \\nare people chasing her and we don\\'t know who they are . \\ndo we really need to see it over and over again ? \\nhow about giving us different scenes offering further insight into all of the strangeness going down in the movie ? \\napparently , the studio took this film away from its director and chopped it up themselves , and it shows . \\nthere might\\'ve been a pretty decent teen mind-fuck movie in here somewhere , but i guess \" the suits \" decided that turning it into a music video with little edge , would make more sense . \\nthe actors are pretty good for the most part , although wes bentley just seemed to be playing the exact same character that he did in american beauty , only in a new neighborhood . \\nbut my biggest kudos go out to sagemiller , who holds her own throughout the entire film , and actually has you feeling her character\\'s unraveling . \\noverall , the film doesn\\'t stick because it doesn\\'t entertain , it\\'s confusing , it rarely excites and it feels pretty redundant for most of its runtime , despite a pretty cool ending and explanation to all of the craziness that came before it . \\noh , and by the way , this is not a horror or teen slasher flick . . . it\\'s \\njust packaged to look that way because someone is apparently assuming that the genre is still hot with the kids . \\nit also wrapped production two years ago and has been sitting on the shelves ever since . \\nwhatever . . . skip \\nit ! \\nwhere\\'s joblo coming from ? \\na nightmare of elm street 3 ( 7/10 ) - blair witch 2 ( 7/10 ) - the crow ( 9/10 ) - the crow : salvation ( 4/10 ) - lost highway ( 10/10 ) - memento ( 10/10 ) - the others ( 9/10 ) - stir of echoes ( 8/10 ) \\n'"
      ]
     },
     "execution_count": 22,
     "metadata": {},
     "output_type": "execute_result"
    }
   ],
   "source": [
    "raw_text"
   ]
  },
  {
   "cell_type": "code",
   "execution_count": 23,
   "id": "bf8d62a8-8a76-42fd-bb80-15a36478b8dc",
   "metadata": {},
   "outputs": [
    {
     "data": {
      "text/plain": [
       "dict_keys([])"
      ]
     },
     "execution_count": 23,
     "metadata": {},
     "output_type": "execute_result"
    }
   ],
   "source": [
    "td.vocabulary"
   ]
  },
  {
   "cell_type": "code",
   "execution_count": 24,
   "id": "5e35ffa3-affa-4298-9a41-5320ec5ead76",
   "metadata": {},
   "outputs": [
    {
     "name": "stdout",
     "output_type": "stream",
     "text": [
      "['plot', 'teen', 'couples', 'church', 'party', 'drink', 'drive', 'accident', 'guys', 'dies', 'girlfriend', 'continues', 'life', 'nightmares', 'deal', 'watch', 'movie', 'sorta']\n",
      "['critique', 'mind', 'fuck', 'movie', 'teen', 'generation', 'touches', 'cool', 'idea', 'presents', 'bad', 'package', 'makes', 'review', 'harder', 'write', 'generally', 'applaud', 'films', 'attempt', 'break', 'mold', 'mess', 'head', 'lost', 'highway', 'memento', 'good', 'bad', 'ways', 'making', 'types', 'films', 'folks', 'snag', 'correctly', 'taken', 'pretty', 'neat', 'concept', 'executed', 'terribly', 'problems', 'movie', 'main', 'problem', 'simply', 'jumbled']\n",
      "['starts', 'normal', 'downshifts', 'fantasy', 'world', 'audience', 'member', 'idea', 'going', 'dreams', 'characters', 'coming', 'dead', 'look', 'like', 'dead', 'strange', 'apparitions', 'disappearances', 'looooot', 'chase', 'scenes', 'tons', 'weird', 'things', 'happen', 'simply', 'explained', 'personally', 'mind', 'trying', 'unravel', 'film', 'clue', 'kind', 'fed', 'film', 'biggest', 'problem', 'obviously', 'got', 'big', 'secret', 'hide', 'want', 'hide', 'completely', 'final', 'minutes', 'things', 'entertaining', 'thrilling', 'engaging', 'meantime']\n",
      "['sad', 'arrow', 'dig', 'flicks', 'like', 'actually', 'figured', 'half', 'way', 'point', 'strangeness', 'start', 'little', 'bit', 'sense', 'film', 'entertaining', 'guess', 'line', 'movies', 'like', 'sure', 'audience', 'given', 'secret', 'password', 'enter', 'world', 'understanding', 'mean', 'showing', 'melissa', 'sagemiller', 'running', 'away', 'visions', 'minutes', 'movie', 'plain', 'lazy', 'okay']\n",
      "['people', 'chasing', 'know', 'need', 'giving', 'different', 'scenes', 'offering', 'insight', 'strangeness', 'going', 'movie', 'apparently', 'studio', 'took', 'film', 'away', 'director', 'chopped', 'shows', 've', 'pretty', 'decent', 'teen', 'mind', 'fuck', 'movie', 'guess', 'suits', 'decided', 'turning', 'music', 'video', 'little', 'edge', 'sense']\n",
      "['actors', 'pretty', 'good', 'wes', 'bentley', 'playing', 'exact', 'character', 'american', 'beauty', 'new', 'neighborhood', 'biggest', 'kudos', 'sagemiller', 'holds', 'entire', 'film', 'actually', 'feeling', 'character', 'unraveling', 'overall', 'film', 'stick', 'entertain', 'confusing', 'rarely', 'excites', 'feels', 'pretty', 'redundant', 'runtime', 'despite', 'pretty', 'cool', 'ending', 'explanation', 'craziness', 'came', 'oh', 'way', 'horror', 'teen', 'slasher', 'flick', 'packaged', 'look', 'way', 'apparently', 'assuming', 'genre', 'hot', 'kids']\n",
      "['wrapped', 'production', 'years', 'ago', 'sitting', 'shelves', 'skip', 'joblo', 'coming', 'nightmare', 'elm', 'street', 'blair', 'witch', 'crow', 'crow', 'salvation', 'lost', 'highway', 'memento', 'stir', 'echoes']\n",
      "[]\n"
     ]
    }
   ],
   "source": [
    "tokenized_text = []\n",
    "for batch in td.read_document_gen(batch_size=5, gensim_custom_tokenizer=GENSIM_CUSTOM_TEKENIZER):\n",
    "    tokenized_text += batch\n",
    "    print(batch)"
   ]
  },
  {
   "cell_type": "code",
   "execution_count": 25,
   "id": "267893d3-19e1-486c-9c51-0524bdefb1ee",
   "metadata": {},
   "outputs": [
    {
     "data": {
      "text/plain": [
       "['plot',\n",
       " 'teen',\n",
       " 'couples',\n",
       " 'church',\n",
       " 'party',\n",
       " 'drink',\n",
       " 'drive',\n",
       " 'accident',\n",
       " 'guys',\n",
       " 'dies']"
      ]
     },
     "execution_count": 25,
     "metadata": {},
     "output_type": "execute_result"
    }
   ],
   "source": [
    "tokenized_text[0:10]"
   ]
  },
  {
   "cell_type": "code",
   "execution_count": 26,
   "id": "e935420e-a97a-4679-840a-812d5390ad5a",
   "metadata": {},
   "outputs": [
    {
     "data": {
      "text/plain": [
       "dict_keys(['plot', 'teen', 'couples', 'church', 'party', 'drink', 'drive', 'accident', 'guys', 'dies', 'girlfriend', 'continues', 'life', 'nightmares', 'deal', 'watch', 'movie', 'sorta', 'critique', 'mind', 'fuck', 'generation', 'touches', 'cool', 'idea', 'presents', 'bad', 'package', 'makes', 'review', 'harder', 'write', 'generally', 'applaud', 'films', 'attempt', 'break', 'mold', 'mess', 'head', 'lost', 'highway', 'memento', 'good', 'ways', 'making', 'types', 'folks', 'snag', 'correctly', 'taken', 'pretty', 'neat', 'concept', 'executed', 'terribly', 'problems', 'main', 'problem', 'simply', 'jumbled', 'starts', 'normal', 'downshifts', 'fantasy', 'world', 'audience', 'member', 'going', 'dreams', 'characters', 'coming', 'dead', 'look', 'like', 'strange', 'apparitions', 'disappearances', 'looooot', 'chase', 'scenes', 'tons', 'weird', 'things', 'happen', 'explained', 'personally', 'trying', 'unravel', 'film', 'clue', 'kind', 'fed', 'biggest', 'obviously', 'got', 'big', 'secret', 'hide', 'want', 'completely', 'final', 'minutes', 'entertaining', 'thrilling', 'engaging', 'meantime', 'sad', 'arrow', 'dig', 'flicks', 'actually', 'figured', 'half', 'way', 'point', 'strangeness', 'start', 'little', 'bit', 'sense', 'guess', 'line', 'movies', 'sure', 'given', 'password', 'enter', 'understanding', 'mean', 'showing', 'melissa', 'sagemiller', 'running', 'away', 'visions', 'plain', 'lazy', 'okay', 'people', 'chasing', 'know', 'need', 'giving', 'different', 'offering', 'insight', 'apparently', 'studio', 'took', 'director', 'chopped', 'shows', 've', 'decent', 'suits', 'decided', 'turning', 'music', 'video', 'edge', 'actors', 'wes', 'bentley', 'playing', 'exact', 'character', 'american', 'beauty', 'new', 'neighborhood', 'kudos', 'holds', 'entire', 'feeling', 'unraveling', 'overall', 'stick', 'entertain', 'confusing', 'rarely', 'excites', 'feels', 'redundant', 'runtime', 'despite', 'ending', 'explanation', 'craziness', 'came', 'oh', 'horror', 'slasher', 'flick', 'packaged', 'assuming', 'genre', 'hot', 'kids', 'wrapped', 'production', 'years', 'ago', 'sitting', 'shelves', 'skip', 'joblo', 'nightmare', 'elm', 'street', 'blair', 'witch', 'crow', 'salvation', 'stir', 'echoes'])"
      ]
     },
     "execution_count": 26,
     "metadata": {},
     "output_type": "execute_result"
    }
   ],
   "source": [
    "td.vocabulary"
   ]
  },
  {
   "cell_type": "code",
   "execution_count": null,
   "id": "7849aa16-cac5-4875-a2fa-8b57845e8259",
   "metadata": {},
   "outputs": [],
   "source": []
  }
 ],
 "metadata": {
  "kernelspec": {
   "display_name": "Python 3 (ipykernel)",
   "language": "python",
   "name": "python3"
  },
  "language_info": {
   "codemirror_mode": {
    "name": "ipython",
    "version": 3
   },
   "file_extension": ".py",
   "mimetype": "text/x-python",
   "name": "python",
   "nbconvert_exporter": "python",
   "pygments_lexer": "ipython3",
   "version": "3.10.11"
  }
 },
 "nbformat": 4,
 "nbformat_minor": 5
}
