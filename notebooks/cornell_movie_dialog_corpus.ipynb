{
 "cells": [
  {
   "cell_type": "code",
   "execution_count": 1,
   "id": "fab488a5-ce12-4cb9-9be6-d8ffb9e73a92",
   "metadata": {},
   "outputs": [],
   "source": [
    "%load_ext autoreload\n",
    "%autoreload 2"
   ]
  },
  {
   "cell_type": "code",
   "execution_count": 2,
   "id": "e0e68259-6864-4db3-97e8-4887c6294a49",
   "metadata": {},
   "outputs": [],
   "source": [
    "import sys\n",
    "from pathlib import Path\n",
    "sys.path.append('..')\n",
    "\n",
    "import os"
   ]
  },
  {
   "cell_type": "code",
   "execution_count": 3,
   "id": "ec179adf-ecba-4a30-b316-cd9e9767d1c5",
   "metadata": {},
   "outputs": [],
   "source": [
    "from kst.data_sets.TextSequence import TextSequence"
   ]
  },
  {
   "cell_type": "code",
   "execution_count": 4,
   "id": "f239f92b-754e-4911-86a1-8bbaf0ac4e55",
   "metadata": {},
   "outputs": [],
   "source": [
    "from gensim.parsing.preprocessing import (\n",
    "    strip_tags,\n",
    "    strip_punctuation,\n",
    "    strip_multiple_whitespaces,\n",
    "    remove_stopwords,\n",
    "    strip_short,\n",
    "    strip_numeric,\n",
    "    stem_text\n",
    ")"
   ]
  },
  {
   "cell_type": "code",
   "execution_count": 5,
   "id": "eafd4c47-4196-4269-ace8-c896d2fc4aaf",
   "metadata": {},
   "outputs": [],
   "source": [
    "GENSIM_CUSTOM_TEKENIZER = [\n",
    "            strip_tags,\n",
    "            strip_punctuation,\n",
    "            strip_multiple_whitespaces,\n",
    "            strip_numeric\n",
    "        ]"
   ]
  },
  {
   "cell_type": "code",
   "execution_count": 6,
   "id": "fe96a29e-988c-4c40-96bd-8719bd50ae77",
   "metadata": {},
   "outputs": [
    {
     "name": "stdout",
     "output_type": "stream",
     "text": [
      "['L1045', 'u0', 'm0', 'BIANCA', 'They do not!\\n']\n",
      "['L1044', 'u2', 'm0', 'CAMERON', 'They do to!\\n']\n",
      "['L985', 'u0', 'm0', 'BIANCA', 'I hope so.\\n']\n",
      "['L984', 'u2', 'm0', 'CAMERON', 'She okay?\\n']\n",
      "['L925', 'u0', 'm0', 'BIANCA', \"Let's go.\\n\"]\n"
     ]
    }
   ],
   "source": [
    "my_seq = TextSequence()\n",
    "with open(\"/Users/lukaszmaczewski/Documents/Learning/DeepNeuralNetworks/keras/data/archive/movie_lines.txt\",\"r\") as f:\n",
    "    for i in range(5):\n",
    "        line = f.readline().split(\" +++$+++ \")\n",
    "        print(line)\n",
    "        my_seq.add_element(line[4],GENSIM_CUSTOM_TEKENIZER)"
   ]
  },
  {
   "cell_type": "code",
   "execution_count": 7,
   "id": "1ef3f403-ec62-46bf-a303-ec4d8a38e0c5",
   "metadata": {},
   "outputs": [
    {
     "data": {
      "text/plain": [
       "[['they', 'do', 'not'],\n",
       " ['they', 'do', 'to'],\n",
       " ['i', 'hope', 'so'],\n",
       " ['she', 'okay'],\n",
       " ['let', 's', 'go']]"
      ]
     },
     "execution_count": 7,
     "metadata": {},
     "output_type": "execute_result"
    }
   ],
   "source": [
    "my_seq.txt_sequence"
   ]
  },
  {
   "cell_type": "code",
   "execution_count": 8,
   "id": "8609fa44-02b4-4f73-b35a-b2c31f49baf9",
   "metadata": {},
   "outputs": [
    {
     "data": {
      "text/plain": [
       "defaultdict(int,\n",
       "            {'<BOS>': 1,\n",
       "             '<EOS>': 1,\n",
       "             'they': 2,\n",
       "             'do': 2,\n",
       "             'not': 1,\n",
       "             'to': 1,\n",
       "             'i': 1,\n",
       "             'hope': 1,\n",
       "             'so': 1,\n",
       "             'she': 1,\n",
       "             'okay': 1,\n",
       "             'let': 1,\n",
       "             's': 1,\n",
       "             'go': 1})"
      ]
     },
     "execution_count": 8,
     "metadata": {},
     "output_type": "execute_result"
    }
   ],
   "source": [
    "my_seq.token_count"
   ]
  },
  {
   "cell_type": "code",
   "execution_count": 9,
   "id": "ead9c8aa-5766-41b9-9b19-066662207674",
   "metadata": {},
   "outputs": [
    {
     "data": {
      "text/plain": [
       "dict_keys(['<BOS>', '<EOS>', 'they', 'do', 'not', 'to', 'i', 'hope', 'so', 'she', 'okay', 'let', 's', 'go'])"
      ]
     },
     "execution_count": 9,
     "metadata": {},
     "output_type": "execute_result"
    }
   ],
   "source": [
    "my_seq.vocabulary"
   ]
  },
  {
   "cell_type": "code",
   "execution_count": 10,
   "id": "675b1a23-11b1-446a-99d5-d62b13ed3429",
   "metadata": {},
   "outputs": [
    {
     "name": "stdout",
     "output_type": "stream",
     "text": [
      "(['they', 'do', 'not'], ['<BOS>', 'they', 'do', 'to', '<EOS>'])\n",
      "(['they', 'do', 'to'], ['<BOS>', 'i', 'hope', 'so', '<EOS>'])\n",
      "(['i', 'hope', 'so'], ['<BOS>', 'she', 'okay', '<EOS>'])\n",
      "(['she', 'okay'], ['<BOS>', 'let', 's', 'go', '<EOS>'])\n"
     ]
    }
   ],
   "source": [
    "for i in my_seq.pair_sequence():\n",
    "    print(i)"
   ]
  },
  {
   "cell_type": "code",
   "execution_count": null,
   "id": "11b57846-21c4-4bf8-9114-b939ba59ade0",
   "metadata": {},
   "outputs": [],
   "source": []
  }
 ],
 "metadata": {
  "kernelspec": {
   "display_name": "Python 3 (ipykernel)",
   "language": "python",
   "name": "python3"
  },
  "language_info": {
   "codemirror_mode": {
    "name": "ipython",
    "version": 3
   },
   "file_extension": ".py",
   "mimetype": "text/x-python",
   "name": "python",
   "nbconvert_exporter": "python",
   "pygments_lexer": "ipython3",
   "version": "3.10.11"
  }
 },
 "nbformat": 4,
 "nbformat_minor": 5
}
