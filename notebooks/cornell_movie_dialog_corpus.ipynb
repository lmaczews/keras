{
 "cells": [
  {
   "cell_type": "code",
   "execution_count": 1,
   "id": "fab488a5-ce12-4cb9-9be6-d8ffb9e73a92",
   "metadata": {},
   "outputs": [],
   "source": [
    "%load_ext autoreload\n",
    "%autoreload 2"
   ]
  },
  {
   "cell_type": "code",
   "execution_count": 2,
   "id": "e0e68259-6864-4db3-97e8-4887c6294a49",
   "metadata": {},
   "outputs": [
    {
     "name": "stderr",
     "output_type": "stream",
     "text": [
      "/var/folders/73/1_fd1jr14477j2fv2b70mpx00000gn/T/ipykernel_7164/2829813872.py:8: TqdmWarning: IProgress not found. Please update jupyter and ipywidgets. See https://ipywidgets.readthedocs.io/en/stable/user_install.html\n",
      "  from tqdm.autonotebook import tqdm\n"
     ]
    }
   ],
   "source": [
    "import sys\n",
    "from pathlib import Path\n",
    "sys.path.append('..')\n",
    "import os\n",
    "import ast\n",
    "import pandas as pd\n",
    "\n",
    "from tqdm.autonotebook import tqdm\n",
    "tqdm.pandas()"
   ]
  },
  {
   "cell_type": "code",
   "execution_count": 3,
   "id": "ec179adf-ecba-4a30-b316-cd9e9767d1c5",
   "metadata": {},
   "outputs": [],
   "source": [
    "from kst.data_sets.TextSequences import TextSequences\n",
    "from kst.data_sets.TextSequencesCorpus import TextSequencesCorpus"
   ]
  },
  {
   "cell_type": "code",
   "execution_count": 4,
   "id": "f239f92b-754e-4911-86a1-8bbaf0ac4e55",
   "metadata": {},
   "outputs": [],
   "source": [
    "from gensim.parsing.preprocessing import (\n",
    "    strip_tags,\n",
    "    strip_punctuation,\n",
    "    strip_multiple_whitespaces,\n",
    "    remove_stopwords,\n",
    "    strip_short,\n",
    "    strip_numeric,\n",
    "    stem_text\n",
    ")"
   ]
  },
  {
   "cell_type": "code",
   "execution_count": 5,
   "id": "eafd4c47-4196-4269-ace8-c896d2fc4aaf",
   "metadata": {},
   "outputs": [],
   "source": [
    "GENSIM_CUSTOM_TEKENIZER = [\n",
    "            strip_tags,\n",
    "            strip_punctuation,\n",
    "            strip_multiple_whitespaces,\n",
    "            strip_numeric\n",
    "        ]"
   ]
  },
  {
   "cell_type": "code",
   "execution_count": 6,
   "id": "76284b6c-744c-4339-9942-744b2704b73f",
   "metadata": {},
   "outputs": [
    {
     "name": "stderr",
     "output_type": "stream",
     "text": [
      "100%|███████████████████████████████████████████████████████████████████████████████████████████████████████████████████████████████████████████████████████████████████████████████████████| 304713/304713 [00:00<00:00, 750405.84it/s]\n"
     ]
    }
   ],
   "source": [
    "lines_dict = {}\n",
    "counter = 0\n",
    "with open(\"/Users/lukaszmaczewski/Documents/Learning/DeepNeuralNetworks/keras/data/cornell_movie_dialog_corpus/movie_lines.txt\", \"r\", encoding='iso-8859-1') as f:\n",
    "    for line in tqdm(f.readlines()):\n",
    "        line = line.split(\" +++$+++ \")\n",
    "        lines_dict[(line[2],line[0])] = line[4]\n",
    "        counter += 1"
   ]
  },
  {
   "cell_type": "code",
   "execution_count": 7,
   "id": "81ce23d4-0d1e-4854-aecd-80d5927b693f",
   "metadata": {},
   "outputs": [
    {
     "name": "stderr",
     "output_type": "stream",
     "text": [
      "100%|███████████████████████████████████████████████████████████████████████████████████████████████████████████████████████████████████████████████████████████████████████████████████████████| 83097/83097 [00:13<00:00, 6113.33it/s]\n"
     ]
    }
   ],
   "source": [
    "tc = TextSequencesCorpus()\n",
    "with open(\"/Users/lukaszmaczewski/Documents/Learning/DeepNeuralNetworks/keras/data/cornell_movie_dialog_corpus/movie_conversations.txt\",\"r\") as f:\n",
    "    for line in tqdm(f.readlines()):\n",
    "        line = line.split(\" +++$+++ \")\n",
    "        movie = line[2]\n",
    "        conversation =ast.literal_eval(line[3])\n",
    "        sequences = TextSequences()\n",
    "        for line in conversation:\n",
    "            sequences.add_sequence(lines_dict.get((movie, line)),GENSIM_CUSTOM_TEKENIZER)\n",
    "            tc.add_sequences(sequences)\n",
    "tc.prepare_token_to_index_mappings()"
   ]
  },
  {
   "cell_type": "code",
   "execution_count": 8,
   "id": "d95273e4-3981-48d4-8a10-0946ff3396ac",
   "metadata": {},
   "outputs": [
    {
     "name": "stdout",
     "output_type": "stream",
     "text": [
      "(['can', 'we', 'make', 'this', 'quick', 'roxanne', 'korrine', 'and', 'andrew', 'barrett', 'are', 'having', 'an', 'incredibly', 'horrendous', 'public', 'break', 'up', 'on', 'the', 'quad', 'again'], ['<BOS>', 'well', 'i', 'thought', 'we', 'would', 'start', 'with', 'pronunciation', 'if', 'that', 'is', 'okay', 'with', 'you', '<EOS>'])\n",
      "(['well', 'i', 'thought', 'we', 'would', 'start', 'with', 'pronunciation', 'if', 'that', 'is', 'okay', 'with', 'you'], ['<BOS>', 'not', 'the', 'hacking', 'and', 'gagging', 'and', 'spitting', 'part', 'please', '<EOS>'])\n",
      "(['not', 'the', 'hacking', 'and', 'gagging', 'and', 'spitting', 'part', 'please'], ['<BOS>', 'okay', 'then', 'how', 'about', 'we', 'try', 'out', 'some', 'french', 'cuisine', 'saturday', 'night', '<EOS>'])\n"
     ]
    }
   ],
   "source": [
    "for i in tc.collection_of_sequences[0].get_two_consecutive_sequences():\n",
    "    print(i)"
   ]
  },
  {
   "cell_type": "code",
   "execution_count": 12,
   "id": "c1ed963f-7eb6-4a0c-9257-c9d88a80cd1a",
   "metadata": {},
   "outputs": [],
   "source": [
    "input = []\n",
    "output = []\n",
    "for seq in tc.collection_of_sequences:\n",
    "    for seq_1, seq_2 in seq.get_two_consecutive_sequences():\n",
    "        input += [[tc.get_index(i) for i in seq_1]]\n",
    "        output += [[tc.get_index(i) for i in seq_2]]\n",
    "    break"
   ]
  },
  {
   "cell_type": "code",
   "execution_count": 14,
   "id": "de6af220-9867-4131-8ac6-1fcdfd379c83",
   "metadata": {},
   "outputs": [
    {
     "data": {
      "text/plain": [
       "([[26500,\n",
       "   39921,\n",
       "   44915,\n",
       "   53164,\n",
       "   11373,\n",
       "   40077,\n",
       "   59918,\n",
       "   22367,\n",
       "   36798,\n",
       "   54626,\n",
       "   42036,\n",
       "   12813,\n",
       "   54565,\n",
       "   22388,\n",
       "   46685,\n",
       "   27608,\n",
       "   58581,\n",
       "   7816,\n",
       "   24165,\n",
       "   33573,\n",
       "   380,\n",
       "   27646],\n",
       "  [1640,\n",
       "   41702,\n",
       "   34459,\n",
       "   39921,\n",
       "   45789,\n",
       "   6954,\n",
       "   17959,\n",
       "   61890,\n",
       "   9921,\n",
       "   24074,\n",
       "   41450,\n",
       "   50297,\n",
       "   17959,\n",
       "   47504],\n",
       "  [44648, 33573, 53373, 22367, 56828, 22367, 8616, 17429, 47451]],\n",
       " [[17170,\n",
       "   1640,\n",
       "   41702,\n",
       "   34459,\n",
       "   39921,\n",
       "   45789,\n",
       "   6954,\n",
       "   17959,\n",
       "   61890,\n",
       "   9921,\n",
       "   24074,\n",
       "   41450,\n",
       "   50297,\n",
       "   17959,\n",
       "   47504,\n",
       "   53624],\n",
       "  [17170, 44648, 33573, 53373, 22367, 56828, 22367, 8616, 17429, 47451, 53624],\n",
       "  [17170,\n",
       "   50297,\n",
       "   37723,\n",
       "   59563,\n",
       "   56291,\n",
       "   39921,\n",
       "   54001,\n",
       "   9032,\n",
       "   46216,\n",
       "   38232,\n",
       "   52285,\n",
       "   25559,\n",
       "   38575,\n",
       "   53624]])"
      ]
     },
     "execution_count": 14,
     "metadata": {},
     "output_type": "execute_result"
    }
   ],
   "source": [
    "input, output"
   ]
  },
  {
   "cell_type": "code",
   "execution_count": null,
   "id": "44c886d9-06fa-4c91-af3b-bb0b971dc637",
   "metadata": {},
   "outputs": [],
   "source": []
  }
 ],
 "metadata": {
  "kernelspec": {
   "display_name": "Python 3 (ipykernel)",
   "language": "python",
   "name": "python3"
  },
  "language_info": {
   "codemirror_mode": {
    "name": "ipython",
    "version": 3
   },
   "file_extension": ".py",
   "mimetype": "text/x-python",
   "name": "python",
   "nbconvert_exporter": "python",
   "pygments_lexer": "ipython3",
   "version": "3.10.11"
  }
 },
 "nbformat": 4,
 "nbformat_minor": 5
}
