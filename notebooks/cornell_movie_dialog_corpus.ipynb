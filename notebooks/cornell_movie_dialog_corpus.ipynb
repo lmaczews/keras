{
 "cells": [
  {
   "cell_type": "code",
   "execution_count": 1,
   "id": "fab488a5-ce12-4cb9-9be6-d8ffb9e73a92",
   "metadata": {},
   "outputs": [],
   "source": [
    "%load_ext autoreload\n",
    "%autoreload 2"
   ]
  },
  {
   "cell_type": "code",
   "execution_count": 2,
   "id": "e0e68259-6864-4db3-97e8-4887c6294a49",
   "metadata": {},
   "outputs": [
    {
     "name": "stderr",
     "output_type": "stream",
     "text": [
      "/var/folders/73/1_fd1jr14477j2fv2b70mpx00000gn/T/ipykernel_8324/440396935.py:8: TqdmWarning: IProgress not found. Please update jupyter and ipywidgets. See https://ipywidgets.readthedocs.io/en/stable/user_install.html\n",
      "  from tqdm.autonotebook import tqdm\n"
     ]
    }
   ],
   "source": [
    "import sys\n",
    "from pathlib import Path\n",
    "sys.path.append('..')\n",
    "import os\n",
    "import ast\n",
    "import pandas as pd\n",
    "\n",
    "from tqdm.autonotebook import tqdm\n",
    "tqdm.pandas()\n",
    "\n",
    "import json"
   ]
  },
  {
   "cell_type": "code",
   "execution_count": 3,
   "id": "ec179adf-ecba-4a30-b316-cd9e9767d1c5",
   "metadata": {},
   "outputs": [],
   "source": [
    "from kst.data_sets.TextSequences import TextSequences\n",
    "from kst.data_sets.TextSequencesCorpus import TextSequencesCorpus"
   ]
  },
  {
   "cell_type": "code",
   "execution_count": 4,
   "id": "f239f92b-754e-4911-86a1-8bbaf0ac4e55",
   "metadata": {},
   "outputs": [],
   "source": [
    "from gensim.parsing.preprocessing import (\n",
    "    strip_tags,\n",
    "    strip_punctuation,\n",
    "    strip_multiple_whitespaces,\n",
    "    remove_stopwords,\n",
    "    strip_short,\n",
    "    strip_numeric,\n",
    "    stem_text\n",
    ")"
   ]
  },
  {
   "cell_type": "code",
   "execution_count": 5,
   "id": "eafd4c47-4196-4269-ace8-c896d2fc4aaf",
   "metadata": {},
   "outputs": [],
   "source": [
    "GENSIM_CUSTOM_TEKENIZER = [\n",
    "            strip_tags,\n",
    "            strip_punctuation,\n",
    "            strip_multiple_whitespaces,\n",
    "            strip_numeric\n",
    "        ]"
   ]
  },
  {
   "cell_type": "markdown",
   "id": "d071be0d-08d7-442c-b197-f7c5a5e070c1",
   "metadata": {},
   "source": [
    "# Load data"
   ]
  },
  {
   "cell_type": "markdown",
   "id": "c2003b39-0a0c-44d1-8099-63214ec97a86",
   "metadata": {},
   "source": [
    "### Lines"
   ]
  },
  {
   "cell_type": "code",
   "execution_count": 6,
   "id": "76284b6c-744c-4339-9942-744b2704b73f",
   "metadata": {},
   "outputs": [
    {
     "name": "stderr",
     "output_type": "stream",
     "text": [
      "100%|███████████████████████████████████████████████████████████████████████████████████████████████████████████████████████████| 304713/304713 [00:00<00:00, 610546.86it/s]\n"
     ]
    }
   ],
   "source": [
    "lines_dict = {}\n",
    "counter = 0\n",
    "with open(\"/Users/lukaszmaczewski/Documents/Learning/DeepNeuralNetworks/keras/data/cornell_movie_dialog_corpus/movie_lines.txt\", \"r\", encoding='iso-8859-1') as f:\n",
    "    for line in tqdm(f.readlines()):\n",
    "        line = line.split(\" +++$+++ \")\n",
    "        lines_dict[(line[2],line[0])] = line[4]\n",
    "        counter += 1"
   ]
  },
  {
   "cell_type": "markdown",
   "id": "590c6531-1fdc-4b68-bdea-302c298ac91f",
   "metadata": {},
   "source": [
    "### Create corpus of conversations "
   ]
  },
  {
   "cell_type": "code",
   "execution_count": 7,
   "id": "81ce23d4-0d1e-4854-aecd-80d5927b693f",
   "metadata": {},
   "outputs": [
    {
     "name": "stderr",
     "output_type": "stream",
     "text": [
      "100%|███████████████████████████████████████████████████████████████████████████████████████████████████████████████████████████████| 83097/83097 [00:14<00:00, 5724.69it/s]\n"
     ]
    }
   ],
   "source": [
    "tc = TextSequencesCorpus()\n",
    "with open(\"/Users/lukaszmaczewski/Documents/Learning/DeepNeuralNetworks/keras/data/cornell_movie_dialog_corpus/movie_conversations.txt\",\"r\") as f:\n",
    "    for line in tqdm(f.readlines()):\n",
    "        line = line.split(\" +++$+++ \")\n",
    "        movie = line[2]\n",
    "        conversation =ast.literal_eval(line[3])\n",
    "        sequences = TextSequences()\n",
    "        for line in conversation:\n",
    "            sequences.add_sequence(lines_dict.get((movie, line)),GENSIM_CUSTOM_TEKENIZER)\n",
    "            tc.add_sequences(sequences)\n",
    "tc.prepare_token_to_index_mappings()"
   ]
  },
  {
   "cell_type": "markdown",
   "id": "da908e05-54d6-4556-a903-6fc67ef10d77",
   "metadata": {},
   "source": [
    "# Build data set of consecutive dialogue"
   ]
  },
  {
   "cell_type": "code",
   "execution_count": 8,
   "id": "c1ed963f-7eb6-4a0c-9257-c9d88a80cd1a",
   "metadata": {},
   "outputs": [
    {
     "name": "stderr",
     "output_type": "stream",
     "text": [
      "100%|████████████████████████████████████████████████████████████████████████████████████████████████████████████████████████████| 304713/304713 [00:13<00:00, 22571.62it/s]\n"
     ]
    }
   ],
   "source": [
    "input = []\n",
    "output = []\n",
    "for seq in tqdm(tc.collection_of_sequences):\n",
    "    for seq_1, seq_2 in seq.get_two_consecutive_sequences():\n",
    "        input += [[tc.get_index(i) for i in seq_1]]\n",
    "        output += [[tc.get_index(i) for i in seq_2]]"
   ]
  },
  {
   "cell_type": "code",
   "execution_count": 9,
   "id": "620cd2f3-3f3e-437d-84c5-2d27acb94bac",
   "metadata": {},
   "outputs": [],
   "source": [
    "corpus_df = pd.DataFrame.from_dict({'input_seq':input, 'output_seq':output})"
   ]
  },
  {
   "cell_type": "markdown",
   "id": "57bc8759-040e-4e4d-a293-0f1c4fbe3f03",
   "metadata": {},
   "source": [
    "# Store corpus"
   ]
  },
  {
   "cell_type": "code",
   "execution_count": 10,
   "id": "df8857a1-8493-441c-b880-50e48b1be44f",
   "metadata": {},
   "outputs": [],
   "source": [
    "corpus_df.sample(frac = 1.0).to_pickle('/Users/lukaszmaczewski/Documents/Learning/DeepNeuralNetworks/keras/data/cornell_movie_dialog_corpus/corpus_df.pkl')"
   ]
  },
  {
   "cell_type": "code",
   "execution_count": 11,
   "id": "6bfdb05e-4667-45f8-85e3-d0364f55cbfb",
   "metadata": {},
   "outputs": [],
   "source": [
    "with open(\"/Users/lukaszmaczewski/Documents/Learning/DeepNeuralNetworks/keras/data/cornell_movie_dialog_corpus/token2index.json\", \"w\") as outfile:\n",
    "    outfile.write(json.dumps(tc._token2index))"
   ]
  },
  {
   "cell_type": "code",
   "execution_count": 12,
   "id": "907f606f-ca50-437b-b519-46bf4fd7c08d",
   "metadata": {},
   "outputs": [],
   "source": [
    "with open(\"/Users/lukaszmaczewski/Documents/Learning/DeepNeuralNetworks/keras/data/cornell_movie_dialog_corpus/index2token.json\", \"w\") as outfile:\n",
    "    outfile.write(json.dumps(tc._index2token))"
   ]
  }
 ],
 "metadata": {
  "kernelspec": {
   "display_name": "Python 3 (ipykernel)",
   "language": "python",
   "name": "python3"
  },
  "language_info": {
   "codemirror_mode": {
    "name": "ipython",
    "version": 3
   },
   "file_extension": ".py",
   "mimetype": "text/x-python",
   "name": "python",
   "nbconvert_exporter": "python",
   "pygments_lexer": "ipython3",
   "version": "3.10.11"
  }
 },
 "nbformat": 4,
 "nbformat_minor": 5
}
