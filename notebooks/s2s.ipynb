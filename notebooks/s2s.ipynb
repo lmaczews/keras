{
 "cells": [
  {
   "cell_type": "markdown",
   "id": "74e96c8d-959e-45bf-a757-a48c647c28da",
   "metadata": {},
   "source": [
    "https://blog.paperspace.com/implement-seq2seq-for-text-summarization-keras/"
   ]
  },
  {
   "cell_type": "code",
   "execution_count": 1,
   "id": "7e73b2ec-98a4-4da4-aa88-705a27d93356",
   "metadata": {},
   "outputs": [],
   "source": [
    "%load_ext autoreload\n",
    "%autoreload 2"
   ]
  },
  {
   "cell_type": "code",
   "execution_count": 2,
   "id": "73af4d6c-bd8a-4821-9744-4932d730b3b9",
   "metadata": {},
   "outputs": [],
   "source": [
    "import pandas as pd\n",
    "import json"
   ]
  },
  {
   "cell_type": "markdown",
   "id": "58f25ce9-5bcb-4381-83b4-d1918167556a",
   "metadata": {},
   "source": [
    "# Load cornell movie dialog corpus"
   ]
  },
  {
   "cell_type": "code",
   "execution_count": 3,
   "id": "36d50fc3-7373-47a1-8a2b-7be487f1c549",
   "metadata": {},
   "outputs": [],
   "source": [
    "corpus_df = pd.read_pickle('/Users/lukaszmaczewski/Documents/Learning/DeepNeuralNetworks/keras/data/cornell_movie_dialog_corpus/corpus_df.pkl')"
   ]
  },
  {
   "cell_type": "code",
   "execution_count": 4,
   "id": "a514deb3-dead-4c1e-a3c5-247e941f7a9a",
   "metadata": {},
   "outputs": [
    {
     "data": {
      "text/html": [
       "<div>\n",
       "<style scoped>\n",
       "    .dataframe tbody tr th:only-of-type {\n",
       "        vertical-align: middle;\n",
       "    }\n",
       "\n",
       "    .dataframe tbody tr th {\n",
       "        vertical-align: top;\n",
       "    }\n",
       "\n",
       "    .dataframe thead th {\n",
       "        text-align: right;\n",
       "    }\n",
       "</style>\n",
       "<table border=\"1\" class=\"dataframe\">\n",
       "  <thead>\n",
       "    <tr style=\"text-align: right;\">\n",
       "      <th></th>\n",
       "      <th>input_seq</th>\n",
       "      <th>output_seq</th>\n",
       "    </tr>\n",
       "  </thead>\n",
       "  <tbody>\n",
       "    <tr>\n",
       "      <th>771777</th>\n",
       "      <td>[39474, 19939, 7382, 2790, 5272, 19110, 31143]</td>\n",
       "      <td>[26138, 34176, 21944]</td>\n",
       "    </tr>\n",
       "    <tr>\n",
       "      <th>815390</th>\n",
       "      <td>[55154, 42244, 49176, 55154, 55154]</td>\n",
       "      <td>[26138, 34788, 2589, 10427, 7055, 10427, 2589,...</td>\n",
       "    </tr>\n",
       "    <tr>\n",
       "      <th>718</th>\n",
       "      <td>[2589, 60732, 2994, 3261, 39474, 19939, 14419,...</td>\n",
       "      <td>[26138, 39342, 44035, 19421, 57062, 31143, 336...</td>\n",
       "    </tr>\n",
       "    <tr>\n",
       "      <th>217598</th>\n",
       "      <td>[2028, 20218, 31143, 10427, 49373, 56766, 5310...</td>\n",
       "      <td>[26138, 30653, 57927, 52250, 24130, 57062, 380...</td>\n",
       "    </tr>\n",
       "    <tr>\n",
       "      <th>1256845</th>\n",
       "      <td>[2028, 57062, 31143, 29358, 5112, 32478, 41045]</td>\n",
       "      <td>[26138, 2589, 57062, 38056, 27550, 57062, 3114...</td>\n",
       "    </tr>\n",
       "  </tbody>\n",
       "</table>\n",
       "</div>"
      ],
      "text/plain": [
       "                                                 input_seq  \\\n",
       "771777      [39474, 19939, 7382, 2790, 5272, 19110, 31143]   \n",
       "815390                 [55154, 42244, 49176, 55154, 55154]   \n",
       "718      [2589, 60732, 2994, 3261, 39474, 19939, 14419,...   \n",
       "217598   [2028, 20218, 31143, 10427, 49373, 56766, 5310...   \n",
       "1256845    [2028, 57062, 31143, 29358, 5112, 32478, 41045]   \n",
       "\n",
       "                                                output_seq  \n",
       "771777                               [26138, 34176, 21944]  \n",
       "815390   [26138, 34788, 2589, 10427, 7055, 10427, 2589,...  \n",
       "718      [26138, 39342, 44035, 19421, 57062, 31143, 336...  \n",
       "217598   [26138, 30653, 57927, 52250, 24130, 57062, 380...  \n",
       "1256845  [26138, 2589, 57062, 38056, 27550, 57062, 3114...  "
      ]
     },
     "execution_count": 4,
     "metadata": {},
     "output_type": "execute_result"
    }
   ],
   "source": [
    "corpus_df.head()"
   ]
  },
  {
   "cell_type": "code",
   "execution_count": 5,
   "id": "7eb83a98-50b0-45ee-826a-a3a06481d185",
   "metadata": {},
   "outputs": [],
   "source": [
    "with open('/Users/lukaszmaczewski/Documents/Learning/DeepNeuralNetworks/keras/data/cornell_movie_dialog_corpus/token2index.json', 'r') as f:\n",
    "    token2index = json.load(f)\n",
    "with open('/Users/lukaszmaczewski/Documents/Learning/DeepNeuralNetworks/keras/data/cornell_movie_dialog_corpus/index2token.json', 'r') as f:\n",
    "    index2token = json.load(f)"
   ]
  },
  {
   "cell_type": "code",
   "execution_count": 6,
   "id": "fe33fefd-39b5-4ae4-ba28-b408c2e1800d",
   "metadata": {},
   "outputs": [],
   "source": [
    "max_index = max(list(token2index.values())) + 1"
   ]
  },
  {
   "cell_type": "markdown",
   "id": "47185357-38a3-4f89-a7bb-d4d5345e1c7a",
   "metadata": {},
   "source": [
    "# Pad sequences"
   ]
  },
  {
   "cell_type": "code",
   "execution_count": 7,
   "id": "21083390-1f50-4b08-a2f9-07138a0c95ce",
   "metadata": {},
   "outputs": [
    {
     "name": "stderr",
     "output_type": "stream",
     "text": [
      "2023-09-04 00:06:09.413518: I tensorflow/core/platform/cpu_feature_guard.cc:182] This TensorFlow binary is optimized to use available CPU instructions in performance-critical operations.\n",
      "To enable the following instructions: AVX2 FMA, in other operations, rebuild TensorFlow with the appropriate compiler flags.\n"
     ]
    }
   ],
   "source": [
    "from keras.utils import pad_sequences"
   ]
  },
  {
   "cell_type": "code",
   "execution_count": 8,
   "id": "e0ff5220-c2d5-4444-90bb-577aceb6f65e",
   "metadata": {},
   "outputs": [],
   "source": [
    "max_len = 20"
   ]
  },
  {
   "cell_type": "code",
   "execution_count": 9,
   "id": "0fa22f70-5494-4b59-82e4-49186186d8f2",
   "metadata": {},
   "outputs": [],
   "source": [
    "input = pad_sequences(corpus_df.input_seq, maxlen = max_len, padding = 'pre')\n",
    "output = pad_sequences(corpus_df.output_seq, maxlen = max_len + 1, padding = 'post')"
   ]
  },
  {
   "cell_type": "code",
   "execution_count": 10,
   "id": "66d82c47-7f69-42a1-b4bd-5e84dced49b1",
   "metadata": {},
   "outputs": [
    {
     "data": {
      "text/plain": [
       "((1507546, 20), (1507546, 21))"
      ]
     },
     "execution_count": 10,
     "metadata": {},
     "output_type": "execute_result"
    }
   ],
   "source": [
    "input.shape, output.shape"
   ]
  },
  {
   "cell_type": "markdown",
   "id": "527bb68f-3045-4d44-ad8b-5a44c2ca3fa7",
   "metadata": {},
   "source": [
    "# Create model"
   ]
  },
  {
   "cell_type": "code",
   "execution_count": 11,
   "id": "b3519ef2-39e4-4567-9d2e-437481a3085b",
   "metadata": {},
   "outputs": [],
   "source": [
    "from keras.utils.vis_utils import plot_model"
   ]
  },
  {
   "cell_type": "code",
   "execution_count": 12,
   "id": "3c26e40c-d138-4533-a0ac-17dc1f3c0eeb",
   "metadata": {},
   "outputs": [],
   "source": [
    "from tensorflow.keras.layers import Input, LSTM, Embedding, Dense, Concatenate, TimeDistributed\n",
    "from tensorflow.keras.models import Model\n",
    "from tensorflow.keras.callbacks import EarlyStopping"
   ]
  },
  {
   "cell_type": "code",
   "execution_count": 13,
   "id": "503412e6-3fbd-4539-ae6a-d1b3ea4ffa92",
   "metadata": {},
   "outputs": [],
   "source": [
    "embedding_dim = 16\n",
    "latent_dim = 32"
   ]
  },
  {
   "cell_type": "code",
   "execution_count": 14,
   "id": "733c59a0-4726-4ece-9ffa-681b5cdf1649",
   "metadata": {},
   "outputs": [],
   "source": [
    "embed_layer = Embedding(max_index, embedding_dim, trainable=True)"
   ]
  },
  {
   "cell_type": "code",
   "execution_count": 15,
   "id": "0bcdb35b-e431-470c-bb5e-0c59ed99f102",
   "metadata": {},
   "outputs": [
    {
     "name": "stdout",
     "output_type": "stream",
     "text": [
      "Model: \"model\"\n",
      "__________________________________________________________________________________________________\n",
      " Layer (type)                   Output Shape         Param #     Connected to                     \n",
      "==================================================================================================\n",
      " input_2 (InputLayer)           [(None, 20)]         0           []                               \n",
      "                                                                                                  \n",
      " input_1 (InputLayer)           [(None, 20)]         0           []                               \n",
      "                                                                                                  \n",
      " embedding (Embedding)          (None, 20, 16)       991664      ['input_1[0][0]',                \n",
      "                                                                  'input_2[0][0]']                \n",
      "                                                                                                  \n",
      " lstm (LSTM)                    [(None, 20, 32),     6272        ['embedding[0][0]']              \n",
      "                                 (None, 32),                                                      \n",
      "                                 (None, 32)]                                                      \n",
      "                                                                                                  \n",
      " lstm_1 (LSTM)                  [(None, 20, 32),     6272        ['embedding[1][0]',              \n",
      "                                 (None, 32),                      'lstm[0][1]',                   \n",
      "                                 (None, 32)]                      'lstm[0][2]']                   \n",
      "                                                                                                  \n",
      " time_distributed (TimeDistribu  (None, 20, 61979)   2045307     ['lstm_1[0][0]']                 \n",
      " ted)                                                                                             \n",
      "                                                                                                  \n",
      "==================================================================================================\n",
      "Total params: 3,049,515\n",
      "Trainable params: 3,049,515\n",
      "Non-trainable params: 0\n",
      "__________________________________________________________________________________________________\n"
     ]
    }
   ],
   "source": [
    "# Encoder\n",
    "## Encoder input\n",
    "encoder_inputs = Input(shape=(max_len, ))\n",
    "## Embedding layer\n",
    "encoder_embedded = embed_layer(encoder_inputs)\n",
    "## Encoder LSTM\n",
    "encoder_lstm = LSTM(latent_dim, return_sequences=True, return_state=True, dropout=0.4, recurrent_dropout=0.4)\n",
    "(encoder_output1, state_h, state_c) = encoder_lstm(encoder_embedded)\n",
    "\n",
    "# Decoder\n",
    "## Set up the decoder, using encoder_states as the initial state\n",
    "decoder_inputs = Input(shape=(max_len, ))\n",
    "# Embedding layer\n",
    "decoder_embedded = embed_layer(decoder_inputs)\n",
    "\n",
    "# Decoder LSTM\n",
    "decoder_lstm = LSTM(latent_dim, return_sequences=True, return_state=True, dropout=0.4, recurrent_dropout=0.2)\n",
    "(decoder_outputs, decoder_fwd_state, decoder_back_state) = decoder_lstm(decoder_embedded, initial_state=[state_h, state_c])\n",
    "\n",
    "# Dense layer\n",
    "decoder_dense = TimeDistributed(Dense(max_index, activation='softmax'))\n",
    "decoder_outputs = decoder_dense(decoder_outputs)\n",
    "\n",
    "# Define the model\n",
    "model = Model([encoder_inputs, decoder_inputs], decoder_outputs)\n",
    "\n",
    "model.summary()"
   ]
  },
  {
   "cell_type": "code",
   "execution_count": 16,
   "id": "8055a939-caf2-4096-a98f-31e70a7b4849",
   "metadata": {},
   "outputs": [
    {
     "data": {
      "image/png": "[encoded data removed]",
      "text/plain": [
       "<IPython.core.display.Image object>"
      ]
     },
     "execution_count": 16,
     "metadata": {},
     "output_type": "execute_result"
    }
   ],
   "source": [
    "plot_model(model, to_file='model.png', show_shapes=True)"
   ]
  },
  {
   "cell_type": "code",
   "execution_count": 17,
   "id": "7558ff62-b2c4-49a6-b225-ea10e0baa2db",
   "metadata": {},
   "outputs": [],
   "source": [
    "model.compile(optimizer='rmsprop', loss='sparse_categorical_crossentropy')\n",
    "# es = EarlyStopping(monitor='val_loss', mode='min', verbose=1, patience=2)"
   ]
  },
  {
   "cell_type": "code",
   "execution_count": 18,
   "id": "7ca5aeef-91c3-465e-a4b0-de50568c978a",
   "metadata": {},
   "outputs": [
    {
     "data": {
      "text/plain": [
       "(1507546, 20)"
      ]
     },
     "execution_count": 18,
     "metadata": {},
     "output_type": "execute_result"
    }
   ],
   "source": [
    "input.shape"
   ]
  },
  {
   "cell_type": "code",
   "execution_count": 19,
   "id": "dbaa759d-b1e7-4844-b665-6ac4d0b3695a",
   "metadata": {},
   "outputs": [
    {
     "data": {
      "text/plain": [
       "array([[34176, 21944,     0, ...,     0,     0,     0],\n",
       "       [34788,  2589, 10427, ...,     0,     0,     0],\n",
       "       [39342, 44035, 19421, ...,     0,     0,     0],\n",
       "       ...,\n",
       "       [ 2589, 31350, 49250, ...,     0,     0,     0],\n",
       "       [43279,  5112, 46793, ...,     0,     0,     0],\n",
       "       [30653, 35324, 21944, ...,     0,     0,     0]], dtype=int32)"
      ]
     },
     "execution_count": 19,
     "metadata": {},
     "output_type": "execute_result"
    }
   ],
   "source": [
    "output[:,1:]"
   ]
  },
  {
   "cell_type": "code",
   "execution_count": null,
   "id": "ca2e511e-c58e-46c3-bf61-1c4636eb5c4b",
   "metadata": {},
   "outputs": [
    {
     "name": "stdout",
     "output_type": "stream",
     "text": [
      "Epoch 1/10\n",
      "  30/5889 [..............................] - ETA: 18:26:48 - loss: 10.8941"
     ]
    }
   ],
   "source": [
    "history = model.fit([input, output[:,:-1]],\n",
    "                    output[:,1:],\n",
    "                    epochs=10, # callbacks=[es],\n",
    "                    batch_size=256,\n",
    "                    validation_freq=0.3)"
   ]
  },
  {
   "cell_type": "code",
   "execution_count": null,
   "id": "ddc32a48-8a5c-43e4-9596-db83c6eb5d17",
   "metadata": {},
   "outputs": [],
   "source": []
  }
 ],
 "metadata": {
  "kernelspec": {
   "display_name": "Python 3 (ipykernel)",
   "language": "python",
   "name": "python3"
  },
  "language_info": {
   "codemirror_mode": {
    "name": "ipython",
    "version": 3
   },
   "file_extension": ".py",
   "mimetype": "text/x-python",
   "name": "python",
   "nbconvert_exporter": "python",
   "pygments_lexer": "ipython3",
   "version": "3.10.11"
  }
 },
 "nbformat": 4,
 "nbformat_minor": 5
}
