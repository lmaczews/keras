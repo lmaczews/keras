{
 "cells": [
  {
   "cell_type": "markdown",
   "id": "74e96c8d-959e-45bf-a757-a48c647c28da",
   "metadata": {},
   "source": [
    "https://blog.paperspace.com/implement-seq2seq-for-text-summarization-keras/"
   ]
  },
  {
   "cell_type": "code",
   "execution_count": 1,
   "id": "7e73b2ec-98a4-4da4-aa88-705a27d93356",
   "metadata": {},
   "outputs": [],
   "source": [
    "%load_ext autoreload\n",
    "%autoreload 2"
   ]
  },
  {
   "cell_type": "code",
   "execution_count": 2,
   "id": "73af4d6c-bd8a-4821-9744-4932d730b3b9",
   "metadata": {},
   "outputs": [],
   "source": [
    "import pandas as pd\n",
    "import json"
   ]
  },
  {
   "cell_type": "markdown",
   "id": "58f25ce9-5bcb-4381-83b4-d1918167556a",
   "metadata": {},
   "source": [
    "# Load cornell movie dialog corpus"
   ]
  },
  {
   "cell_type": "code",
   "execution_count": 3,
   "id": "36d50fc3-7373-47a1-8a2b-7be487f1c549",
   "metadata": {},
   "outputs": [],
   "source": [
    "corpus_df = pd.read_pickle('/Users/lukaszmaczewski/Documents/Learning/DeepNeuralNetworks/keras/data/cornell_movie_dialog_corpus/corpus_df.pkl')"
   ]
  },
  {
   "cell_type": "code",
   "execution_count": 4,
   "id": "ba882dc2-39dd-4d28-88cb-7c9c2837d867",
   "metadata": {},
   "outputs": [],
   "source": [
    "corpus_df = corpus_df.sample(frac = 0.05)"
   ]
  },
  {
   "cell_type": "code",
   "execution_count": 5,
   "id": "cde9847d-1658-4869-a7d4-2c5e4f7b073b",
   "metadata": {},
   "outputs": [
    {
     "data": {
      "text/plain": [
       "(75377, 2)"
      ]
     },
     "execution_count": 5,
     "metadata": {},
     "output_type": "execute_result"
    }
   ],
   "source": [
    "corpus_df.shape"
   ]
  },
  {
   "cell_type": "code",
   "execution_count": 6,
   "id": "a514deb3-dead-4c1e-a3c5-247e941f7a9a",
   "metadata": {},
   "outputs": [
    {
     "data": {
      "text/html": [
       "<div>\n",
       "<style scoped>\n",
       "    .dataframe tbody tr th:only-of-type {\n",
       "        vertical-align: middle;\n",
       "    }\n",
       "\n",
       "    .dataframe tbody tr th {\n",
       "        vertical-align: top;\n",
       "    }\n",
       "\n",
       "    .dataframe thead th {\n",
       "        text-align: right;\n",
       "    }\n",
       "</style>\n",
       "<table border=\"1\" class=\"dataframe\">\n",
       "  <thead>\n",
       "    <tr style=\"text-align: right;\">\n",
       "      <th></th>\n",
       "      <th>input_seq</th>\n",
       "      <th>output_seq</th>\n",
       "    </tr>\n",
       "  </thead>\n",
       "  <tbody>\n",
       "    <tr>\n",
       "      <th>726609</th>\n",
       "      <td>[34813, 45965, 60482, 30231, 38228, 21264]</td>\n",
       "      <td>[54501, 26450, 45965, 20621, 31886, 54178]</td>\n",
       "    </tr>\n",
       "    <tr>\n",
       "      <th>1137548</th>\n",
       "      <td>[26514, 17480, 39879, 37797]</td>\n",
       "      <td>[54501, 26450, 48583, 13022, 25914, 7417, 5450...</td>\n",
       "    </tr>\n",
       "    <tr>\n",
       "      <th>275791</th>\n",
       "      <td>[17194, 51429, 29730, 19919, 34813]</td>\n",
       "      <td>[54501, 25914, 35197, 29730, 26965, 31563, 253...</td>\n",
       "    </tr>\n",
       "    <tr>\n",
       "      <th>141213</th>\n",
       "      <td>[56158, 55201, 51877, 33986, 17144]</td>\n",
       "      <td>[54501, 37118, 40865, 24265, 26439, 25914, 451...</td>\n",
       "    </tr>\n",
       "    <tr>\n",
       "      <th>555036</th>\n",
       "      <td>[24265, 25914, 27081, 19919, 25586, 25212, 265...</td>\n",
       "      <td>[54501, 25914, 54178]</td>\n",
       "    </tr>\n",
       "  </tbody>\n",
       "</table>\n",
       "</div>"
      ],
      "text/plain": [
       "                                                 input_seq  \\\n",
       "726609          [34813, 45965, 60482, 30231, 38228, 21264]   \n",
       "1137548                       [26514, 17480, 39879, 37797]   \n",
       "275791                 [17194, 51429, 29730, 19919, 34813]   \n",
       "141213                 [56158, 55201, 51877, 33986, 17144]   \n",
       "555036   [24265, 25914, 27081, 19919, 25586, 25212, 265...   \n",
       "\n",
       "                                                output_seq  \n",
       "726609          [54501, 26450, 45965, 20621, 31886, 54178]  \n",
       "1137548  [54501, 26450, 48583, 13022, 25914, 7417, 5450...  \n",
       "275791   [54501, 25914, 35197, 29730, 26965, 31563, 253...  \n",
       "141213   [54501, 37118, 40865, 24265, 26439, 25914, 451...  \n",
       "555036                               [54501, 25914, 54178]  "
      ]
     },
     "execution_count": 6,
     "metadata": {},
     "output_type": "execute_result"
    }
   ],
   "source": [
    "corpus_df.head()"
   ]
  },
  {
   "cell_type": "code",
   "execution_count": 7,
   "id": "7eb83a98-50b0-45ee-826a-a3a06481d185",
   "metadata": {},
   "outputs": [],
   "source": [
    "with open('/Users/lukaszmaczewski/Documents/Learning/DeepNeuralNetworks/keras/data/cornell_movie_dialog_corpus/token2index.json', 'r') as f:\n",
    "    token2index = json.load(f)\n",
    "with open('/Users/lukaszmaczewski/Documents/Learning/DeepNeuralNetworks/keras/data/cornell_movie_dialog_corpus/index2token.json', 'r') as f:\n",
    "    index2token = json.load(f)"
   ]
  },
  {
   "cell_type": "code",
   "execution_count": 8,
   "id": "fe33fefd-39b5-4ae4-ba28-b408c2e1800d",
   "metadata": {},
   "outputs": [],
   "source": [
    "max_index = max(list(token2index.values())) + 1"
   ]
  },
  {
   "cell_type": "markdown",
   "id": "47185357-38a3-4f89-a7bb-d4d5345e1c7a",
   "metadata": {},
   "source": [
    "# Pad sequences"
   ]
  },
  {
   "cell_type": "code",
   "execution_count": 9,
   "id": "21083390-1f50-4b08-a2f9-07138a0c95ce",
   "metadata": {},
   "outputs": [
    {
     "name": "stderr",
     "output_type": "stream",
     "text": [
      "2023-09-05 23:14:53.475578: I tensorflow/core/platform/cpu_feature_guard.cc:182] This TensorFlow binary is optimized to use available CPU instructions in performance-critical operations.\n",
      "To enable the following instructions: AVX2 FMA, in other operations, rebuild TensorFlow with the appropriate compiler flags.\n"
     ]
    }
   ],
   "source": [
    "from keras.utils import pad_sequences"
   ]
  },
  {
   "cell_type": "code",
   "execution_count": 10,
   "id": "e0ff5220-c2d5-4444-90bb-577aceb6f65e",
   "metadata": {},
   "outputs": [],
   "source": [
    "max_len = 10"
   ]
  },
  {
   "cell_type": "code",
   "execution_count": 11,
   "id": "0fa22f70-5494-4b59-82e4-49186186d8f2",
   "metadata": {},
   "outputs": [],
   "source": [
    "input = pad_sequences(corpus_df.input_seq, maxlen = max_len, padding = 'post', truncating = 'post')\n",
    "output = pad_sequences(corpus_df.output_seq, maxlen = max_len + 1, padding = 'post', truncating = 'post')"
   ]
  },
  {
   "cell_type": "code",
   "execution_count": 12,
   "id": "66d82c47-7f69-42a1-b4bd-5e84dced49b1",
   "metadata": {},
   "outputs": [
    {
     "data": {
      "text/plain": [
       "((75377, 10), (75377, 11))"
      ]
     },
     "execution_count": 12,
     "metadata": {},
     "output_type": "execute_result"
    }
   ],
   "source": [
    "input.shape, output.shape"
   ]
  },
  {
   "cell_type": "code",
   "execution_count": 13,
   "id": "7952d606-0c1d-4f71-b51d-b20a934c8e9a",
   "metadata": {},
   "outputs": [
    {
     "data": {
      "text/plain": [
       "array([[34813, 45965, 60482, ...,     0,     0,     0],\n",
       "       [26514, 17480, 39879, ...,     0,     0,     0],\n",
       "       [17194, 51429, 29730, ...,     0,     0,     0],\n",
       "       ...,\n",
       "       [26514, 43474, 13022, ...,     0,     0,     0],\n",
       "       [42829,     0,     0, ...,     0,     0,     0],\n",
       "       [ 4925, 24937,  4925, ..., 31563,  3501, 29453]], dtype=int32)"
      ]
     },
     "execution_count": 13,
     "metadata": {},
     "output_type": "execute_result"
    }
   ],
   "source": [
    "input"
   ]
  },
  {
   "cell_type": "code",
   "execution_count": 14,
   "id": "6583bb63-b38a-4e62-ac2a-21926e4d30b9",
   "metadata": {},
   "outputs": [
    {
     "data": {
      "text/plain": [
       "array([[54501, 26450, 45965, ...,     0,     0,     0],\n",
       "       [54501, 26450, 48583, ..., 58081, 34099, 54178],\n",
       "       [54501, 25914, 35197, ..., 25914, 35197, 50605],\n",
       "       ...,\n",
       "       [54501, 34813, 26251, ...,     0,     0,     0],\n",
       "       [54501, 34813, 45965, ...,     0,     0,     0],\n",
       "       [54501,  8678, 54178, ...,     0,     0,     0]], dtype=int32)"
      ]
     },
     "execution_count": 14,
     "metadata": {},
     "output_type": "execute_result"
    }
   ],
   "source": [
    "output"
   ]
  },
  {
   "cell_type": "markdown",
   "id": "527bb68f-3045-4d44-ad8b-5a44c2ca3fa7",
   "metadata": {},
   "source": [
    "# Create model"
   ]
  },
  {
   "cell_type": "code",
   "execution_count": 15,
   "id": "b3519ef2-39e4-4567-9d2e-437481a3085b",
   "metadata": {},
   "outputs": [],
   "source": [
    "from keras.utils.vis_utils import plot_model"
   ]
  },
  {
   "cell_type": "code",
   "execution_count": 16,
   "id": "3c26e40c-d138-4533-a0ac-17dc1f3c0eeb",
   "metadata": {},
   "outputs": [],
   "source": [
    "from tensorflow.keras.layers import Input, LSTM, Embedding, Dense, Concatenate, TimeDistributed\n",
    "from tensorflow.keras.models import Model\n",
    "from tensorflow.keras.callbacks import EarlyStopping"
   ]
  },
  {
   "cell_type": "code",
   "execution_count": 17,
   "id": "503412e6-3fbd-4539-ae6a-d1b3ea4ffa92",
   "metadata": {},
   "outputs": [],
   "source": [
    "embedding_dim = 16\n",
    "latent_dim = 32"
   ]
  },
  {
   "cell_type": "code",
   "execution_count": 18,
   "id": "733c59a0-4726-4ece-9ffa-681b5cdf1649",
   "metadata": {},
   "outputs": [],
   "source": [
    "embed_layer = Embedding(max_index, embedding_dim, trainable=True)"
   ]
  },
  {
   "cell_type": "code",
   "execution_count": 19,
   "id": "0bcdb35b-e431-470c-bb5e-0c59ed99f102",
   "metadata": {},
   "outputs": [
    {
     "name": "stdout",
     "output_type": "stream",
     "text": [
      "Model: \"model\"\n",
      "__________________________________________________________________________________________________\n",
      " Layer (type)                   Output Shape         Param #     Connected to                     \n",
      "==================================================================================================\n",
      " input_2 (InputLayer)           [(None, 10)]         0           []                               \n",
      "                                                                                                  \n",
      " input_1 (InputLayer)           [(None, 10)]         0           []                               \n",
      "                                                                                                  \n",
      " embedding (Embedding)          (None, 10, 16)       991680      ['input_1[0][0]',                \n",
      "                                                                  'input_2[0][0]']                \n",
      "                                                                                                  \n",
      " lstm (LSTM)                    [(None, 10, 32),     6272        ['embedding[0][0]']              \n",
      "                                 (None, 32),                                                      \n",
      "                                 (None, 32)]                                                      \n",
      "                                                                                                  \n",
      " lstm_1 (LSTM)                  [(None, 10, 32),     6272        ['embedding[1][0]',              \n",
      "                                 (None, 32),                      'lstm[0][1]',                   \n",
      "                                 (None, 32)]                      'lstm[0][2]']                   \n",
      "                                                                                                  \n",
      " time_distributed (TimeDistribu  (None, 10, 61980)   2045340     ['lstm_1[0][0]']                 \n",
      " ted)                                                                                             \n",
      "                                                                                                  \n",
      "==================================================================================================\n",
      "Total params: 3,049,564\n",
      "Trainable params: 3,049,564\n",
      "Non-trainable params: 0\n",
      "__________________________________________________________________________________________________\n"
     ]
    }
   ],
   "source": [
    "# Encoder\n",
    "## Encoder input\n",
    "encoder_inputs = Input(shape=(max_len, ))\n",
    "## Embedding layer\n",
    "encoder_embedded = embed_layer(encoder_inputs)\n",
    "## Encoder LSTM\n",
    "encoder_lstm = LSTM(latent_dim, return_sequences=True, return_state=True, dropout=0.4, recurrent_dropout=0.4)\n",
    "(encoder_output1, state_h, state_c) = encoder_lstm(encoder_embedded)\n",
    "\n",
    "# Decoder\n",
    "## Set up the decoder, using encoder_states as the initial state\n",
    "decoder_inputs = Input(shape=(max_len, ))\n",
    "# Embedding layer\n",
    "decoder_embedded = embed_layer(decoder_inputs)\n",
    "\n",
    "# Decoder LSTM\n",
    "decoder_lstm = LSTM(latent_dim, return_sequences=True, return_state=True, dropout=0.4, recurrent_dropout=0.2)\n",
    "(decoder_outputs, decoder_fwd_state, decoder_back_state) = decoder_lstm(decoder_embedded, initial_state=[state_h, state_c])\n",
    "\n",
    "# Dense layer\n",
    "decoder_dense = TimeDistributed(Dense(max_index, activation='softmax'))\n",
    "decoder_outputs = decoder_dense(decoder_outputs)\n",
    "\n",
    "# Define the model\n",
    "model = Model([encoder_inputs, decoder_inputs], decoder_outputs)\n",
    "\n",
    "model.summary()"
   ]
  },
  {
   "cell_type": "code",
   "execution_count": 20,
   "id": "8055a939-caf2-4096-a98f-31e70a7b4849",
   "metadata": {},
   "outputs": [
    {
     "data": {
      "image/png": "[encoded data removed]",
      "text/plain": [
       "<IPython.core.display.Image object>"
      ]
     },
     "execution_count": 20,
     "metadata": {},
     "output_type": "execute_result"
    }
   ],
   "source": [
    "plot_model(model, to_file='model.png', show_shapes=True)"
   ]
  },
  {
   "cell_type": "code",
   "execution_count": 21,
   "id": "7558ff62-b2c4-49a6-b225-ea10e0baa2db",
   "metadata": {},
   "outputs": [],
   "source": [
    "model.compile(optimizer='rmsprop', loss='sparse_categorical_crossentropy')\n",
    "# es = EarlyStopping(monitor='val_loss', mode='min', verbose=1, patience=2)"
   ]
  },
  {
   "cell_type": "code",
   "execution_count": 22,
   "id": "7ca5aeef-91c3-465e-a4b0-de50568c978a",
   "metadata": {},
   "outputs": [],
   "source": [
    "train_max_index = 70000"
   ]
  },
  {
   "cell_type": "code",
   "execution_count": 24,
   "id": "ca2e511e-c58e-46c3-bf61-1c4636eb5c4b",
   "metadata": {},
   "outputs": [
    {
     "name": "stdout",
     "output_type": "stream",
     "text": [
      "Epoch 1/10\n",
      "547/547 [==============================] - 1086s 2s/step - loss: 6.4130 - val_loss: 5.0964\n",
      "Epoch 2/10\n",
      "547/547 [==============================] - 1046s 2s/step - loss: 5.0431 - val_loss: 4.9207\n",
      "Epoch 3/10\n",
      "547/547 [==============================] - 1101s 2s/step - loss: 4.6138 - val_loss: 4.4476\n",
      "Epoch 4/10\n",
      "547/547 [==============================] - 1047s 2s/step - loss: 4.3614 - val_loss: 4.3062\n",
      "Epoch 5/10\n",
      "547/547 [==============================] - 1031s 2s/step - loss: 4.2468 - val_loss: 4.2238\n",
      "Epoch 6/10\n",
      "547/547 [==============================] - 1033s 2s/step - loss: 4.1805 - val_loss: 4.1730\n",
      "Epoch 7/10\n",
      "547/547 [==============================] - 1040s 2s/step - loss: 4.1327 - val_loss: 4.1312\n",
      "Epoch 8/10\n",
      "547/547 [==============================] - 1041s 2s/step - loss: 4.0904 - val_loss: 4.0901\n",
      "Epoch 9/10\n",
      "547/547 [==============================] - 1045s 2s/step - loss: 4.0480 - val_loss: 4.0467\n",
      "Epoch 10/10\n",
      "547/547 [==============================] - 1045s 2s/step - loss: 4.0102 - val_loss: 4.0123\n"
     ]
    }
   ],
   "source": [
    "history = model.fit([input[:train_max_index], output[:train_max_index,:-1]],\n",
    "                    output[:train_max_index, 1:],\n",
    "                    epochs=10,\n",
    "                    batch_size=128,\n",
    "                    validation_data = ([input[train_max_index:], output[train_max_index:,:-1]],\n",
    "                                       output[train_max_index:, 1:])\n",
    "                   )"
   ]
  },
  {
   "cell_type": "code",
   "execution_count": 43,
   "id": "974830aa-b718-4ec6-8e72-c90715283569",
   "metadata": {},
   "outputs": [],
   "source": [
    "model.save('/Users/lukaszmaczewski/Documents/Learning/DeepNeuralNetworks/keras/models/s2s.keras')"
   ]
  },
  {
   "cell_type": "code",
   "execution_count": 124,
   "id": "057ba2b6-cb53-4f49-bd29-cf92817af26d",
   "metadata": {},
   "outputs": [],
   "source": [
    "events_from = 100\n",
    "events_to = 110"
   ]
  },
  {
   "cell_type": "code",
   "execution_count": 125,
   "id": "ddc32a48-8a5c-43e4-9596-db83c6eb5d17",
   "metadata": {},
   "outputs": [
    {
     "name": "stdout",
     "output_type": "stream",
     "text": [
      "1/1 [==============================] - 0s 99ms/step\n"
     ]
    }
   ],
   "source": [
    "tmp = model.predict([input[events_from:events_to,:], output[events_from:events_to,:-1]])"
   ]
  },
  {
   "cell_type": "code",
   "execution_count": 126,
   "id": "d1bb904d-8596-40b2-a292-e1dae9f4dfb2",
   "metadata": {},
   "outputs": [
    {
     "data": {
      "text/plain": [
       "(10, 10, 61980)"
      ]
     },
     "execution_count": 126,
     "metadata": {},
     "output_type": "execute_result"
    }
   ],
   "source": [
    "tmp.shape"
   ]
  },
  {
   "cell_type": "code",
   "execution_count": 127,
   "id": "24815fc2-4e7d-4088-b5b3-da6112407ea8",
   "metadata": {},
   "outputs": [],
   "source": [
    "import numpy as np"
   ]
  },
  {
   "cell_type": "code",
   "execution_count": 128,
   "id": "81f35a93-5cb0-4816-b424-b50c74695c71",
   "metadata": {},
   "outputs": [
    {
     "data": {
      "text/plain": [
       "array([25914, 45119, 29730, 12703, 12703, 54178, 54178, 26514, 12703,\n",
       "           0])"
      ]
     },
     "execution_count": 128,
     "metadata": {},
     "output_type": "execute_result"
    }
   ],
   "source": [
    "np.argmax(tmp[0,:,:], axis = 1)"
   ]
  },
  {
   "cell_type": "code",
   "execution_count": 129,
   "id": "efd40a4e-79e6-4941-8cc5-46b43d568f35",
   "metadata": {},
   "outputs": [],
   "source": [
    "index2token.get('0')"
   ]
  },
  {
   "cell_type": "code",
   "execution_count": 130,
   "id": "5b7bc9cb-68a2-4e78-9d48-92ca03a1b09d",
   "metadata": {},
   "outputs": [
    {
     "name": "stdout",
     "output_type": "stream",
     "text": [
      "---\n",
      "in\n",
      "a\n",
      "better\n",
      "place\n",
      "i\n",
      "hope\n",
      "None\n",
      "None\n",
      "None\n",
      "None\n",
      "---\n",
      "well\n",
      "if\n",
      "we\n",
      "are\n",
      "like\n",
      "the\n",
      "man\n",
      "invisible\n",
      "what\n",
      "are\n",
      "---\n",
      "tell\n",
      "me\n",
      "miss\n",
      "saunderswhat\n",
      "time\n",
      "does\n",
      "the\n",
      "senateuhwhat\n",
      "do\n",
      "they\n",
      "---\n",
      "what\n",
      "None\n",
      "None\n",
      "None\n",
      "None\n",
      "None\n",
      "None\n",
      "None\n",
      "None\n",
      "None\n",
      "---\n",
      "it\n",
      "is\n",
      "all\n",
      "set\n",
      "my\n",
      "guy\n",
      "in\n",
      "miami\n",
      "said\n",
      "he\n",
      "---\n",
      "oh\n",
      "he\n",
      "was\n",
      "dying\n",
      "for\n",
      "years\n",
      "None\n",
      "None\n",
      "None\n",
      "None\n",
      "---\n",
      "laura\n",
      "do\n",
      "you\n",
      "love\n",
      "me\n",
      "None\n",
      "None\n",
      "None\n",
      "None\n",
      "None\n",
      "---\n",
      "the\n",
      "questions\n",
      "little\n",
      "bill\n",
      "asked\n",
      "him\n",
      "what\n",
      "sort\n",
      "of\n",
      "questions\n",
      "---\n",
      "what\n",
      "did\n",
      "you\n",
      "do\n",
      "albert\n",
      "None\n",
      "None\n",
      "None\n",
      "None\n",
      "None\n",
      "---\n",
      "i\n",
      "cannot\n",
      "tell\n",
      "you\n",
      "that\n",
      "None\n",
      "None\n",
      "None\n",
      "None\n",
      "None\n"
     ]
    }
   ],
   "source": [
    "for j in input[events_from:events_to,:]:\n",
    "    print('---')\n",
    "    for i in j:\n",
    "        print(index2token.get(str(i)))"
   ]
  },
  {
   "cell_type": "code",
   "execution_count": 131,
   "id": "8dcf2be7-f09a-469d-b757-6151b2ebc673",
   "metadata": {},
   "outputs": [
    {
     "name": "stdout",
     "output_type": "stream",
     "text": [
      "---\n",
      "<BOS>\n",
      "you\n",
      "are\n",
      "not\n",
      "gonna\n",
      "come\n",
      "back\n",
      "are\n",
      "you\n",
      "<EOS>\n",
      "None\n",
      "---\n",
      "<BOS>\n",
      "i\n",
      "do\n",
      "not\n",
      "know\n",
      "uh\n",
      "i\n",
      "am\n",
      "an\n",
      "artist\n",
      "i\n",
      "---\n",
      "<BOS>\n",
      "convene\n",
      "<EOS>\n",
      "None\n",
      "None\n",
      "None\n",
      "None\n",
      "None\n",
      "None\n",
      "None\n",
      "None\n",
      "---\n",
      "<BOS>\n",
      "you\n",
      "know\n",
      "your\n",
      "first\n",
      "campaign\n",
      "<EOS>\n",
      "None\n",
      "None\n",
      "None\n",
      "None\n",
      "---\n",
      "<BOS>\n",
      "no\n",
      "thanks\n",
      "i\n",
      "do\n",
      "not\n",
      "care\n",
      "what\n",
      "you\n",
      "do\n",
      "but\n",
      "---\n",
      "<BOS>\n",
      "sure\n",
      "but\n",
      "the\n",
      "end\n",
      "was\n",
      "so\n",
      "sudden\n",
      "<EOS>\n",
      "None\n",
      "None\n",
      "---\n",
      "<BOS>\n",
      "yes\n",
      "i\n",
      "love\n",
      "you\n",
      "i\n",
      "have\n",
      "told\n",
      "you\n",
      "but\n",
      "it\n",
      "---\n",
      "<BOS>\n",
      "about\n",
      "where\n",
      "you\n",
      "ang\n",
      "him\n",
      "was\n",
      "ang\n",
      "where\n",
      "you\n",
      "was\n",
      "---\n",
      "<BOS>\n",
      "nothing\n",
      "what\n",
      "could\n",
      "i\n",
      "do\n",
      "<EOS>\n",
      "None\n",
      "None\n",
      "None\n",
      "None\n",
      "---\n",
      "<BOS>\n",
      "will\n",
      "she\n",
      "be\n",
      "angry\n",
      "<EOS>\n",
      "None\n",
      "None\n",
      "None\n",
      "None\n",
      "None\n"
     ]
    }
   ],
   "source": [
    "for j in output[events_from:events_to,:]:\n",
    "    print('---')\n",
    "    for i in j:\n",
    "        print(index2token.get(str(i)))"
   ]
  },
  {
   "cell_type": "code",
   "execution_count": 133,
   "id": "4333ad8a-4f2b-4355-b668-70eff2c8ce9f",
   "metadata": {},
   "outputs": [
    {
     "name": "stdout",
     "output_type": "stream",
     "text": [
      "---\n",
      "i\n",
      "am\n",
      "not\n",
      "know\n",
      "know\n",
      "<EOS>\n",
      "<EOS>\n",
      "you\n",
      "know\n",
      "None\n",
      "---\n",
      "i\n",
      "am\n",
      "not\n",
      "know\n",
      "<EOS>\n",
      "<EOS>\n",
      "am\n",
      "not\n",
      "<EOS>\n",
      "<EOS>\n",
      "---\n",
      "i\n",
      "<EOS>\n",
      "None\n",
      "None\n",
      "None\n",
      "None\n",
      "None\n",
      "None\n",
      "None\n",
      "None\n",
      "---\n",
      "i\n",
      "am\n",
      "<EOS>\n",
      "little\n",
      "<EOS>\n",
      "<EOS>\n",
      "None\n",
      "None\n",
      "None\n",
      "None\n",
      "---\n",
      "i\n",
      "i\n",
      "<EOS>\n",
      "am\n",
      "not\n",
      "know\n",
      "<EOS>\n",
      "<EOS>\n",
      "know\n",
      "not\n",
      "---\n",
      "i\n",
      "<EOS>\n",
      "you\n",
      "little\n",
      "<EOS>\n",
      "you\n",
      "<EOS>\n",
      "<EOS>\n",
      "None\n",
      "None\n",
      "---\n",
      "i\n",
      "<EOS>\n",
      "am\n",
      "<EOS>\n",
      "know\n",
      "am\n",
      "to\n",
      "you\n",
      "know\n",
      "you\n",
      "---\n",
      "i\n",
      "you\n",
      "is\n",
      "know\n",
      "<EOS>\n",
      "<EOS>\n",
      "you\n",
      "<EOS>\n",
      "<EOS>\n",
      "know\n",
      "---\n",
      "i\n",
      "<EOS>\n",
      "<EOS>\n",
      "you\n",
      "am\n",
      "not\n",
      "None\n",
      "None\n",
      "None\n",
      "None\n",
      "---\n",
      "i\n",
      "you\n",
      "<EOS>\n",
      "<EOS>\n",
      "<EOS>\n",
      "None\n",
      "None\n",
      "None\n",
      "None\n",
      "None\n"
     ]
    }
   ],
   "source": [
    "for j in tmp:\n",
    "    print('---')\n",
    "    for i in np.argmax(j, axis = 1):\n",
    "        print(index2token.get(str(i)))"
   ]
  },
  {
   "cell_type": "code",
   "execution_count": null,
   "id": "23fa15d0-8c64-4be0-ae18-0681d7fdebdf",
   "metadata": {},
   "outputs": [],
   "source": []
  }
 ],
 "metadata": {
  "kernelspec": {
   "display_name": "Python 3 (ipykernel)",
   "language": "python",
   "name": "python3"
  },
  "language_info": {
   "codemirror_mode": {
    "name": "ipython",
    "version": 3
   },
   "file_extension": ".py",
   "mimetype": "text/x-python",
   "name": "python",
   "nbconvert_exporter": "python",
   "pygments_lexer": "ipython3",
   "version": "3.10.11"
  }
 },
 "nbformat": 4,
 "nbformat_minor": 5
}
