{
 "cells": [
  {
   "cell_type": "code",
   "execution_count": 1,
   "id": "c93ab7ef-94d4-4c83-ae52-f1826a3b1dca",
   "metadata": {},
   "outputs": [],
   "source": [
    "import os"
   ]
  },
  {
   "cell_type": "markdown",
   "id": "f4ba87a0-4c2c-4b8c-9be0-85b97df391af",
   "metadata": {},
   "source": [
    "# Familirisation with data"
   ]
  },
  {
   "cell_type": "code",
   "execution_count": 2,
   "id": "8399d2cf-164a-406b-b5d5-13a757743368",
   "metadata": {},
   "outputs": [],
   "source": [
    "data_path = \"../data/jena_climate_2009_2016.csv\""
   ]
  },
  {
   "cell_type": "code",
   "execution_count": 3,
   "id": "a6d64d96-1efc-478a-b814-d7223d485cfd",
   "metadata": {},
   "outputs": [],
   "source": [
    "with open(data_path) as f:\n",
    "    data = f.read()\n",
    "    lines = data.split(\"\\n\")\n",
    "    header = lines[0].split(\",\")\n",
    "    lines = lines[1:]"
   ]
  },
  {
   "cell_type": "code",
   "execution_count": 4,
   "id": "d5bc3edc-7983-462c-b8e6-4103ee453cbc",
   "metadata": {},
   "outputs": [
    {
     "name": "stdout",
     "output_type": "stream",
     "text": [
      "['\"Date Time\"', '\"p (mbar)\"', '\"T (degC)\"', '\"Tpot (K)\"', '\"Tdew (degC)\"', '\"rh (%)\"', '\"VPmax (mbar)\"', '\"VPact (mbar)\"', '\"VPdef (mbar)\"', '\"sh (g/kg)\"', '\"H2OC (mmol/mol)\"', '\"rho (g/m**3)\"', '\"wv (m/s)\"', '\"max. wv (m/s)\"', '\"wd (deg)\"']\n"
     ]
    }
   ],
   "source": [
    "print(header)"
   ]
  },
  {
   "cell_type": "code",
   "execution_count": 5,
   "id": "b0a77c54-302a-403f-8ad3-e576e1fe5265",
   "metadata": {},
   "outputs": [
    {
     "name": "stdout",
     "output_type": "stream",
     "text": [
      "['01.01.2009 00:10:00,996.52,-8.02,265.40,-8.90,93.30,3.33,3.11,0.22,1.94,3.12,1307.75,1.03,1.75,152.30', '01.01.2009 00:20:00,996.57,-8.41,265.01,-9.28,93.40,3.23,3.02,0.21,1.89,3.03,1309.80,0.72,1.50,136.10', '01.01.2009 00:30:00,996.53,-8.51,264.91,-9.31,93.90,3.21,3.01,0.20,1.88,3.02,1310.24,0.19,0.63,171.60', '01.01.2009 00:40:00,996.51,-8.31,265.12,-9.07,94.20,3.26,3.07,0.19,1.92,3.08,1309.19,0.34,0.50,198.00', '01.01.2009 00:50:00,996.51,-8.27,265.15,-9.04,94.10,3.27,3.08,0.19,1.92,3.09,1309.00,0.32,0.63,214.30']\n"
     ]
    }
   ],
   "source": [
    "print(lines[:5])"
   ]
  },
  {
   "cell_type": "code",
   "execution_count": 6,
   "id": "a155db8b-c2e8-41fb-a832-b6da7800e7ed",
   "metadata": {},
   "outputs": [
    {
     "name": "stdout",
     "output_type": "stream",
     "text": [
      "420451\n"
     ]
    }
   ],
   "source": [
    "print(len(lines))"
   ]
  },
  {
   "cell_type": "markdown",
   "id": "a31d1207-2ddd-4aee-9d04-3b566eb3c633",
   "metadata": {},
   "source": [
    "## data -> numpy array"
   ]
  },
  {
   "cell_type": "code",
   "execution_count": 7,
   "id": "57ec716d-f698-4c3b-b290-60696d3cd085",
   "metadata": {},
   "outputs": [],
   "source": [
    "import numpy as np"
   ]
  },
  {
   "cell_type": "code",
   "execution_count": 8,
   "id": "77a37074-780b-4893-a313-e2e3a5e481c6",
   "metadata": {},
   "outputs": [],
   "source": [
    "float_data = np.zeros((len(lines), len(header) - 1))"
   ]
  },
  {
   "cell_type": "code",
   "execution_count": 9,
   "id": "a2149269-6b9c-4a14-9fc4-2155fbb77b7c",
   "metadata": {},
   "outputs": [
    {
     "name": "stdout",
     "output_type": "stream",
     "text": [
      "(420451, 14)\n"
     ]
    }
   ],
   "source": [
    "print(float_data.shape)"
   ]
  },
  {
   "cell_type": "code",
   "execution_count": 10,
   "id": "cf2c53db-2deb-45e3-82fd-7eab7114e949",
   "metadata": {},
   "outputs": [],
   "source": [
    "for i, line in enumerate(lines):\n",
    "    float_data[i] = line.split(\",\")[1:]"
   ]
  },
  {
   "cell_type": "code",
   "execution_count": 11,
   "id": "264942bb-1460-4f9d-b105-56b2d7c4f0d6",
   "metadata": {},
   "outputs": [
    {
     "name": "stdout",
     "output_type": "stream",
     "text": [
      "(420451, 14)\n"
     ]
    }
   ],
   "source": [
    "print(float_data.shape)"
   ]
  },
  {
   "cell_type": "markdown",
   "id": "bdf02c96-cd7c-4aa8-b5f7-e44e7321631b",
   "metadata": {},
   "source": [
    "## data preprocessing"
   ]
  },
  {
   "cell_type": "code",
   "execution_count": 12,
   "id": "ade0fc1b-e58b-4667-b064-4b28de197e59",
   "metadata": {},
   "outputs": [],
   "source": [
    "train_max_index, val_max_index = 200000, 300000"
   ]
  },
  {
   "cell_type": "markdown",
   "id": "b1895a33-5b06-4544-9e46-48d42579bc6c",
   "metadata": {},
   "source": [
    "### scaling"
   ]
  },
  {
   "cell_type": "code",
   "execution_count": 13,
   "id": "dc6b9026-0206-487b-8d30-762338465b6d",
   "metadata": {},
   "outputs": [],
   "source": [
    "mean_0 = float_data[:train_max_index].mean(axis = 0)\n",
    "float_data -= mean_0\n",
    "std_0 = float_data[:train_max_index].std(axis = 0)\n",
    "float_data /= std_0"
   ]
  },
  {
   "cell_type": "markdown",
   "id": "e46fcb0c-61b6-47e5-94fe-1300b1669e2a",
   "metadata": {},
   "source": [
    "## data selection"
   ]
  },
  {
   "cell_type": "code",
   "execution_count": 14,
   "id": "aa8f8d4c-2d35-4a5d-9074-f63ab5969e8a",
   "metadata": {},
   "outputs": [],
   "source": [
    "lookback = int(5*24*60/10) # 5 days, 1 measuremnt per minute\n",
    "delay = int(1*24*60/10)    # target is 1 day in the future\n",
    "step = int(1*60/10)        # observations are smapled per an hour\n",
    "batch_size = 128"
   ]
  },
  {
   "cell_type": "code",
   "execution_count": 15,
   "id": "9d70568d-0357-4f3c-a36d-f59f74f140ac",
   "metadata": {},
   "outputs": [],
   "source": [
    "def climate_generator(data,\n",
    "                      lookback,\n",
    "                      delay,\n",
    "                      min_index,\n",
    "                      max_index,\n",
    "                      batch_size,\n",
    "                      step,\n",
    "                      shuffle = False):\n",
    "    if max_index is None:\n",
    "        max_index = len(data) - delay - 1\n",
    "    i = min_index + lookback\n",
    "    while 1:\n",
    "        if shuffle:\n",
    "            rows = np.random.randint(i, max_index, batch_size)\n",
    "        else:\n",
    "            if (i + batch_size) >= max_index:\n",
    "                i = min_index + lookback\n",
    "            rows = np.arange(i, min(i + batch_size, max_index))\n",
    "            i += len(rows)\n",
    "\n",
    "        samples = np.zeros((len(rows), lookback//step, data.shape[-1]))\n",
    "        targets = np.zeros((len(rows),))\n",
    "        for j, row in enumerate(rows):\n",
    "            indices = range(rows[j] - lookback, rows[j], step)\n",
    "            samples[j] = data[indices]\n",
    "            targets[j] = data[rows[j] + delay][1]\n",
    "\n",
    "        yield samples, targetss\n",
    "                          "
   ]
  },
  {
   "cell_type": "code",
   "execution_count": 16,
   "id": "ab987727-aa6c-4051-a6db-eafb2ce98139",
   "metadata": {},
   "outputs": [],
   "source": [
    "train_gen = climate_generator(data = float_data,\n",
    "                  lookback = lookback,\n",
    "                  delay = delay,\n",
    "                  min_index = 0,\n",
    "                  max_index = train_max_index,\n",
    "                  batch_size = batch_size,\n",
    "                  step = step,\n",
    "                  shuffle = False)\n",
    "\n",
    "val_gen = climate_generator(data = float_data,\n",
    "                  lookback = lookback,\n",
    "                  delay = delay,\n",
    "                  min_index = train_max_index + 1,\n",
    "                  max_index = val_max_index,\n",
    "                  batch_size = batch_size,\n",
    "                  step = step,\n",
    "                  shuffle = False)\n",
    "\n",
    "test_gen = climate_generator(data = float_data,\n",
    "                  lookback = lookback,\n",
    "                  delay = delay,\n",
    "                  min_index = val_max_index + 1,\n",
    "                  max_index = None,\n",
    "                  batch_size = batch_size,\n",
    "                  step = step,\n",
    "                  shuffle = False)"
   ]
  },
  {
   "cell_type": "code",
   "execution_count": 17,
   "id": "1568ecab-1224-42c7-a355-82add98dbd32",
   "metadata": {},
   "outputs": [],
   "source": [
    "val_steps = val_max_index - train_max_index - 1 - lookback\n",
    "test_steps = len(float_data) - val_max_index - 1 - lookback"
   ]
  },
  {
   "cell_type": "code",
   "execution_count": 18,
   "id": "7f7380f0-885e-48fe-89eb-b093f6d94f33",
   "metadata": {},
   "outputs": [
    {
     "name": "stdout",
     "output_type": "stream",
     "text": [
      "val_gen stapes 99279\n",
      "test_steps stapes 119730\n"
     ]
    }
   ],
   "source": [
    "print(\"val_gen stapes {}\".format(val_steps))\n",
    "print(\"test_steps stapes {}\".format(test_steps))"
   ]
  },
  {
   "cell_type": "code",
   "execution_count": null,
   "id": "bc6ef78e-92f4-4186-9f63-a98d2c852a44",
   "metadata": {},
   "outputs": [],
   "source": []
  }
 ],
 "metadata": {
  "kernelspec": {
   "display_name": "Python 3 (ipykernel)",
   "language": "python",
   "name": "python3"
  },
  "language_info": {
   "codemirror_mode": {
    "name": "ipython",
    "version": 3
   },
   "file_extension": ".py",
   "mimetype": "text/x-python",
   "name": "python",
   "nbconvert_exporter": "python",
   "pygments_lexer": "ipython3",
   "version": "3.10.11"
  }
 },
 "nbformat": 4,
 "nbformat_minor": 5
}
