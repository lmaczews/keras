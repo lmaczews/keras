{
 "cells": [
  {
   "cell_type": "code",
   "execution_count": 1,
   "id": "9f0ae2c2-cd02-4acd-876c-c920f7fcab3f",
   "metadata": {},
   "outputs": [],
   "source": [
    "%load_ext autoreload\n",
    "%autoreload 2"
   ]
  },
  {
   "cell_type": "code",
   "execution_count": 2,
   "id": "910f46c9-1fc7-4f85-bfac-014b17cbea83",
   "metadata": {},
   "outputs": [],
   "source": [
    "import sys\n",
    "from pathlib import Path\n",
    "sys.path.append('..')\n",
    "\n",
    "import pickle\n",
    "import json"
   ]
  },
  {
   "cell_type": "markdown",
   "id": "32957c3f-68b1-450c-a5b6-cbe4155e0b63",
   "metadata": {},
   "source": [
    "# Script params"
   ]
  },
  {
   "cell_type": "code",
   "execution_count": 3,
   "id": "8a30697d-c4e2-449b-a3bd-0be95fccbfd1",
   "metadata": {},
   "outputs": [],
   "source": [
    "max_len = 100\n",
    "embedding_dim = 32"
   ]
  },
  {
   "cell_type": "markdown",
   "id": "57983d42-0e77-440a-a3a4-f4313669ced8",
   "metadata": {},
   "source": [
    "# Load train and test data"
   ]
  },
  {
   "cell_type": "code",
   "execution_count": 4,
   "id": "eeaed860-707a-49a6-95ee-46a7e591d2d7",
   "metadata": {},
   "outputs": [
    {
     "name": "stderr",
     "output_type": "stream",
     "text": [
      "2023-08-13 00:22:59.121867: I tensorflow/core/platform/cpu_feature_guard.cc:182] This TensorFlow binary is optimized to use available CPU instructions in performance-critical operations.\n",
      "To enable the following instructions: AVX2 FMA, in other operations, rebuild TensorFlow with the appropriate compiler flags.\n"
     ]
    }
   ],
   "source": [
    "from keras.utils import pad_sequences"
   ]
  },
  {
   "cell_type": "code",
   "execution_count": 5,
   "id": "66bbc5e1-eb65-459b-afb6-95925a2e8eea",
   "metadata": {},
   "outputs": [],
   "source": [
    "with open('/Users/lukaszmaczewski/Documents/Learning/DeepNeuralNetworks/keras/data/aclImdb/corpus_train_df.pkl', 'rb') as f:\n",
    "    train_df = pickle.load(f)\n",
    "with open('/Users/lukaszmaczewski/Documents/Learning/DeepNeuralNetworks/keras/data/aclImdb/corpus_test_df.pkl', 'rb') as f:\n",
    "    test_df = pickle.load(f)\n",
    "with open('/Users/lukaszmaczewski/Documents/Learning/DeepNeuralNetworks/keras/data/aclImdb/token2index.json', 'r') as f:\n",
    "    token2index = json.load(f)\n",
    "with open('/Users/lukaszmaczewski/Documents/Learning/DeepNeuralNetworks/keras/data/aclImdb/index2token.json', 'r') as f:\n",
    "    index2token = json.load(f)"
   ]
  },
  {
   "cell_type": "code",
   "execution_count": 6,
   "id": "2a86d62e-6996-41f2-a8d5-c451e7c162e8",
   "metadata": {},
   "outputs": [],
   "source": [
    "max_index = max(list(token2index.values())) + 1"
   ]
  },
  {
   "cell_type": "code",
   "execution_count": 7,
   "id": "544abc13-cfe4-4288-a61b-60c93d258ac9",
   "metadata": {},
   "outputs": [],
   "source": [
    "x_train = pad_sequences(train_df.token_indexes.values, maxlen = max_len)\n",
    "y_train = train_df.labels.values\n",
    "x_test = pad_sequences(test_df.token_indexes.values, maxlen = max_len)\n",
    "y_test = test_df.labels.values"
   ]
  },
  {
   "cell_type": "code",
   "execution_count": 8,
   "id": "1a8502f5-2326-465e-afe1-5302c73b2e4a",
   "metadata": {},
   "outputs": [
    {
     "data": {
      "text/plain": [
       "((25000, 100), (25000,))"
      ]
     },
     "execution_count": 8,
     "metadata": {},
     "output_type": "execute_result"
    }
   ],
   "source": [
    "x_train.shape, y_train.shape"
   ]
  },
  {
   "cell_type": "code",
   "execution_count": 9,
   "id": "a2fb4cdb-cd4a-44fc-97bb-d22818259696",
   "metadata": {},
   "outputs": [
    {
     "data": {
      "text/plain": [
       "((25000, 100), (25000,))"
      ]
     },
     "execution_count": 9,
     "metadata": {},
     "output_type": "execute_result"
    }
   ],
   "source": [
    "x_test.shape, y_test.shape"
   ]
  },
  {
   "cell_type": "markdown",
   "id": "162ebe08-5eef-43e0-8c47-78f3dad8f88b",
   "metadata": {},
   "source": [
    "# Training simple dnn with embedding layer"
   ]
  },
  {
   "cell_type": "code",
   "execution_count": 10,
   "id": "71dc8870-0dc4-463a-b741-d9eb5680b34e",
   "metadata": {},
   "outputs": [],
   "source": [
    "from keras.models import Sequential\n",
    "from keras.layers import Flatten, Dense, Embedding, BatchNormalization, Dropout\n",
    "from keras.metrics import AUC, BinaryAccuracy\n",
    "from keras.optimizers import RMSprop"
   ]
  },
  {
   "cell_type": "code",
   "execution_count": 11,
   "id": "b8c8ea3a-aaa8-4e12-8cb5-d42b222f23d1",
   "metadata": {},
   "outputs": [],
   "source": [
    "model = Sequential()\n",
    "model.add(Embedding(max_index, embedding_dim, input_length = max_len))\n",
    "model.add(Flatten())\n",
    "model.add(BatchNormalization())\n",
    "model.add(Dense(16, activation='relu'))\n",
    "model.add(Dropout(0.2))\n",
    "model.add(Dense(8, activation='relu'))\n",
    "model.add(Dropout(0.2))\n",
    "model.add(Dense(1, activation='sigmoid'))"
   ]
  },
  {
   "cell_type": "code",
   "execution_count": 12,
   "id": "1286c956-0aa6-4d17-96cf-7f6c09e3f54b",
   "metadata": {},
   "outputs": [],
   "source": [
    "optimizer = RMSprop(learning_rate=0.0001, momentum = 0.3)\n",
    "model.compile(optimizer=optimizer, loss='binary_crossentropy', metrics=[BinaryAccuracy(), AUC()])"
   ]
  },
  {
   "cell_type": "code",
   "execution_count": 13,
   "id": "bc0f30f2-09b5-4c81-86c6-06608a99cb10",
   "metadata": {},
   "outputs": [
    {
     "name": "stdout",
     "output_type": "stream",
     "text": [
      "Model: \"sequential\"\n",
      "_________________________________________________________________\n",
      " Layer (type)                Output Shape              Param #   \n",
      "=================================================================\n",
      " embedding (Embedding)       (None, 100, 32)           554944    \n",
      "                                                                 \n",
      " flatten (Flatten)           (None, 3200)              0         \n",
      "                                                                 \n",
      " batch_normalization (BatchN  (None, 3200)             12800     \n",
      " ormalization)                                                   \n",
      "                                                                 \n",
      " dense (Dense)               (None, 16)                51216     \n",
      "                                                                 \n",
      " dropout (Dropout)           (None, 16)                0         \n",
      "                                                                 \n",
      " dense_1 (Dense)             (None, 8)                 136       \n",
      "                                                                 \n",
      " dropout_1 (Dropout)         (None, 8)                 0         \n",
      "                                                                 \n",
      " dense_2 (Dense)             (None, 1)                 9         \n",
      "                                                                 \n",
      "=================================================================\n",
      "Total params: 619,105\n",
      "Trainable params: 612,705\n",
      "Non-trainable params: 6,400\n",
      "_________________________________________________________________\n"
     ]
    }
   ],
   "source": [
    "model.summary()"
   ]
  },
  {
   "cell_type": "code",
   "execution_count": 14,
   "id": "ae5fe98b-6123-49dc-9512-793b806305e8",
   "metadata": {},
   "outputs": [
    {
     "name": "stdout",
     "output_type": "stream",
     "text": [
      "Epoch 1/15\n",
      "391/391 [==============================] - 3s 7ms/step - loss: 0.7020 - binary_accuracy: 0.5087 - auc: 0.5132 - val_loss: 0.6930 - val_binary_accuracy: 0.5076 - val_auc: 0.5137\n",
      "Epoch 2/15\n",
      "391/391 [==============================] - 3s 7ms/step - loss: 0.6698 - binary_accuracy: 0.5842 - auc: 0.6200 - val_loss: 0.6679 - val_binary_accuracy: 0.6128 - val_auc: 0.6498\n",
      "Epoch 3/15\n",
      "391/391 [==============================] - 2s 5ms/step - loss: 0.5814 - binary_accuracy: 0.7077 - auc: 0.7823 - val_loss: 0.5307 - val_binary_accuracy: 0.7546 - val_auc: 0.8358\n",
      "Epoch 4/15\n",
      "391/391 [==============================] - 2s 5ms/step - loss: 0.4341 - binary_accuracy: 0.8165 - auc: 0.8907 - val_loss: 0.4109 - val_binary_accuracy: 0.8163 - val_auc: 0.8978\n",
      "Epoch 5/15\n",
      "391/391 [==============================] - 2s 6ms/step - loss: 0.3370 - binary_accuracy: 0.8659 - auc: 0.9328 - val_loss: 0.3810 - val_binary_accuracy: 0.8336 - val_auc: 0.9155\n",
      "Epoch 6/15\n",
      "391/391 [==============================] - 2s 5ms/step - loss: 0.2780 - binary_accuracy: 0.8968 - auc: 0.9546 - val_loss: 0.3607 - val_binary_accuracy: 0.8440 - val_auc: 0.9232\n",
      "Epoch 7/15\n",
      "391/391 [==============================] - 2s 6ms/step - loss: 0.2275 - binary_accuracy: 0.9196 - auc: 0.9693 - val_loss: 0.3726 - val_binary_accuracy: 0.8461 - val_auc: 0.9250\n",
      "Epoch 8/15\n",
      "391/391 [==============================] - 3s 6ms/step - loss: 0.1870 - binary_accuracy: 0.9349 - auc: 0.9791 - val_loss: 0.3894 - val_binary_accuracy: 0.8469 - val_auc: 0.9239\n",
      "Epoch 9/15\n",
      "391/391 [==============================] - 2s 6ms/step - loss: 0.1454 - binary_accuracy: 0.9535 - auc: 0.9874 - val_loss: 0.4283 - val_binary_accuracy: 0.8460 - val_auc: 0.9223\n",
      "Epoch 10/15\n",
      "391/391 [==============================] - 2s 6ms/step - loss: 0.1200 - binary_accuracy: 0.9601 - auc: 0.9912 - val_loss: 0.4639 - val_binary_accuracy: 0.8440 - val_auc: 0.9188\n",
      "Epoch 11/15\n",
      "391/391 [==============================] - 2s 6ms/step - loss: 0.0939 - binary_accuracy: 0.9703 - auc: 0.9945 - val_loss: 0.5155 - val_binary_accuracy: 0.8435 - val_auc: 0.9155\n",
      "Epoch 12/15\n",
      "391/391 [==============================] - 2s 6ms/step - loss: 0.0748 - binary_accuracy: 0.9778 - auc: 0.9964 - val_loss: 0.5656 - val_binary_accuracy: 0.8437 - val_auc: 0.9115\n",
      "Epoch 13/15\n",
      "391/391 [==============================] - 2s 6ms/step - loss: 0.0606 - binary_accuracy: 0.9814 - auc: 0.9976 - val_loss: 0.6271 - val_binary_accuracy: 0.8418 - val_auc: 0.9071\n",
      "Epoch 14/15\n",
      "391/391 [==============================] - 2s 6ms/step - loss: 0.0459 - binary_accuracy: 0.9863 - auc: 0.9985 - val_loss: 0.6898 - val_binary_accuracy: 0.8393 - val_auc: 0.9032\n",
      "Epoch 15/15\n",
      "391/391 [==============================] - 2s 6ms/step - loss: 0.0373 - binary_accuracy: 0.9892 - auc: 0.9991 - val_loss: 0.7782 - val_binary_accuracy: 0.8350 - val_auc: 0.8962\n"
     ]
    }
   ],
   "source": [
    "fit_history = model.fit(x_train,\n",
    "                        y_train,\n",
    "                        epochs=15,\n",
    "                        batch_size=64,\n",
    "                        validation_data=(x_test, y_test)\n",
    "                       )"
   ]
  },
  {
   "cell_type": "code",
   "execution_count": 15,
   "id": "ffc665cd-bba9-4c94-98f5-66c6165504a6",
   "metadata": {},
   "outputs": [],
   "source": [
    "from kst.plots.BasePlots import BasePlots, ScatterPlot\n",
    "import pandas as pd\n",
    "from plotnine import aes, geom_point, geom_line, ylim, labs"
   ]
  },
  {
   "cell_type": "code",
   "execution_count": 16,
   "id": "f7089a35-b8b7-44b8-a13a-4c23e141796b",
   "metadata": {},
   "outputs": [
    {
     "data": {
      "text/html": [
       "<div>\n",
       "<style scoped>\n",
       "    .dataframe tbody tr th:only-of-type {\n",
       "        vertical-align: middle;\n",
       "    }\n",
       "\n",
       "    .dataframe tbody tr th {\n",
       "        vertical-align: top;\n",
       "    }\n",
       "\n",
       "    .dataframe thead th {\n",
       "        text-align: right;\n",
       "    }\n",
       "</style>\n",
       "<table border=\"1\" class=\"dataframe\">\n",
       "  <thead>\n",
       "    <tr style=\"text-align: right;\">\n",
       "      <th></th>\n",
       "      <th>loss</th>\n",
       "      <th>binary_accuracy</th>\n",
       "      <th>auc</th>\n",
       "      <th>val_loss</th>\n",
       "      <th>val_binary_accuracy</th>\n",
       "      <th>val_auc</th>\n",
       "      <th>epoch</th>\n",
       "    </tr>\n",
       "  </thead>\n",
       "  <tbody>\n",
       "    <tr>\n",
       "      <th>0</th>\n",
       "      <td>0.702004</td>\n",
       "      <td>0.50868</td>\n",
       "      <td>0.513217</td>\n",
       "      <td>0.693041</td>\n",
       "      <td>0.50764</td>\n",
       "      <td>0.513667</td>\n",
       "      <td>0</td>\n",
       "    </tr>\n",
       "    <tr>\n",
       "      <th>1</th>\n",
       "      <td>0.669788</td>\n",
       "      <td>0.58416</td>\n",
       "      <td>0.619963</td>\n",
       "      <td>0.667944</td>\n",
       "      <td>0.61284</td>\n",
       "      <td>0.649801</td>\n",
       "      <td>1</td>\n",
       "    </tr>\n",
       "    <tr>\n",
       "      <th>2</th>\n",
       "      <td>0.581425</td>\n",
       "      <td>0.70772</td>\n",
       "      <td>0.782291</td>\n",
       "      <td>0.530710</td>\n",
       "      <td>0.75464</td>\n",
       "      <td>0.835776</td>\n",
       "      <td>2</td>\n",
       "    </tr>\n",
       "    <tr>\n",
       "      <th>3</th>\n",
       "      <td>0.434117</td>\n",
       "      <td>0.81648</td>\n",
       "      <td>0.890664</td>\n",
       "      <td>0.410948</td>\n",
       "      <td>0.81632</td>\n",
       "      <td>0.897828</td>\n",
       "      <td>3</td>\n",
       "    </tr>\n",
       "    <tr>\n",
       "      <th>4</th>\n",
       "      <td>0.337037</td>\n",
       "      <td>0.86592</td>\n",
       "      <td>0.932812</td>\n",
       "      <td>0.381016</td>\n",
       "      <td>0.83356</td>\n",
       "      <td>0.915504</td>\n",
       "      <td>4</td>\n",
       "    </tr>\n",
       "    <tr>\n",
       "      <th>5</th>\n",
       "      <td>0.277965</td>\n",
       "      <td>0.89676</td>\n",
       "      <td>0.954614</td>\n",
       "      <td>0.360738</td>\n",
       "      <td>0.84396</td>\n",
       "      <td>0.923166</td>\n",
       "      <td>5</td>\n",
       "    </tr>\n",
       "    <tr>\n",
       "      <th>6</th>\n",
       "      <td>0.227456</td>\n",
       "      <td>0.91956</td>\n",
       "      <td>0.969325</td>\n",
       "      <td>0.372622</td>\n",
       "      <td>0.84612</td>\n",
       "      <td>0.925023</td>\n",
       "      <td>6</td>\n",
       "    </tr>\n",
       "    <tr>\n",
       "      <th>7</th>\n",
       "      <td>0.186972</td>\n",
       "      <td>0.93492</td>\n",
       "      <td>0.979131</td>\n",
       "      <td>0.389431</td>\n",
       "      <td>0.84692</td>\n",
       "      <td>0.923915</td>\n",
       "      <td>7</td>\n",
       "    </tr>\n",
       "    <tr>\n",
       "      <th>8</th>\n",
       "      <td>0.145408</td>\n",
       "      <td>0.95352</td>\n",
       "      <td>0.987384</td>\n",
       "      <td>0.428259</td>\n",
       "      <td>0.84596</td>\n",
       "      <td>0.922279</td>\n",
       "      <td>8</td>\n",
       "    </tr>\n",
       "    <tr>\n",
       "      <th>9</th>\n",
       "      <td>0.120045</td>\n",
       "      <td>0.96008</td>\n",
       "      <td>0.991185</td>\n",
       "      <td>0.463891</td>\n",
       "      <td>0.84396</td>\n",
       "      <td>0.918754</td>\n",
       "      <td>9</td>\n",
       "    </tr>\n",
       "    <tr>\n",
       "      <th>10</th>\n",
       "      <td>0.093910</td>\n",
       "      <td>0.97028</td>\n",
       "      <td>0.994530</td>\n",
       "      <td>0.515537</td>\n",
       "      <td>0.84348</td>\n",
       "      <td>0.915482</td>\n",
       "      <td>10</td>\n",
       "    </tr>\n",
       "    <tr>\n",
       "      <th>11</th>\n",
       "      <td>0.074771</td>\n",
       "      <td>0.97780</td>\n",
       "      <td>0.996428</td>\n",
       "      <td>0.565650</td>\n",
       "      <td>0.84368</td>\n",
       "      <td>0.911539</td>\n",
       "      <td>11</td>\n",
       "    </tr>\n",
       "    <tr>\n",
       "      <th>12</th>\n",
       "      <td>0.060630</td>\n",
       "      <td>0.98144</td>\n",
       "      <td>0.997574</td>\n",
       "      <td>0.627129</td>\n",
       "      <td>0.84180</td>\n",
       "      <td>0.907143</td>\n",
       "      <td>12</td>\n",
       "    </tr>\n",
       "    <tr>\n",
       "      <th>13</th>\n",
       "      <td>0.045949</td>\n",
       "      <td>0.98632</td>\n",
       "      <td>0.998532</td>\n",
       "      <td>0.689842</td>\n",
       "      <td>0.83928</td>\n",
       "      <td>0.903153</td>\n",
       "      <td>13</td>\n",
       "    </tr>\n",
       "    <tr>\n",
       "      <th>14</th>\n",
       "      <td>0.037339</td>\n",
       "      <td>0.98916</td>\n",
       "      <td>0.999070</td>\n",
       "      <td>0.778172</td>\n",
       "      <td>0.83504</td>\n",
       "      <td>0.896249</td>\n",
       "      <td>14</td>\n",
       "    </tr>\n",
       "  </tbody>\n",
       "</table>\n",
       "</div>"
      ],
      "text/plain": [
       "        loss  binary_accuracy       auc  val_loss  val_binary_accuracy  \\\n",
       "0   0.702004          0.50868  0.513217  0.693041              0.50764   \n",
       "1   0.669788          0.58416  0.619963  0.667944              0.61284   \n",
       "2   0.581425          0.70772  0.782291  0.530710              0.75464   \n",
       "3   0.434117          0.81648  0.890664  0.410948              0.81632   \n",
       "4   0.337037          0.86592  0.932812  0.381016              0.83356   \n",
       "5   0.277965          0.89676  0.954614  0.360738              0.84396   \n",
       "6   0.227456          0.91956  0.969325  0.372622              0.84612   \n",
       "7   0.186972          0.93492  0.979131  0.389431              0.84692   \n",
       "8   0.145408          0.95352  0.987384  0.428259              0.84596   \n",
       "9   0.120045          0.96008  0.991185  0.463891              0.84396   \n",
       "10  0.093910          0.97028  0.994530  0.515537              0.84348   \n",
       "11  0.074771          0.97780  0.996428  0.565650              0.84368   \n",
       "12  0.060630          0.98144  0.997574  0.627129              0.84180   \n",
       "13  0.045949          0.98632  0.998532  0.689842              0.83928   \n",
       "14  0.037339          0.98916  0.999070  0.778172              0.83504   \n",
       "\n",
       "     val_auc  epoch  \n",
       "0   0.513667      0  \n",
       "1   0.649801      1  \n",
       "2   0.835776      2  \n",
       "3   0.897828      3  \n",
       "4   0.915504      4  \n",
       "5   0.923166      5  \n",
       "6   0.925023      6  \n",
       "7   0.923915      7  \n",
       "8   0.922279      8  \n",
       "9   0.918754      9  \n",
       "10  0.915482     10  \n",
       "11  0.911539     11  \n",
       "12  0.907143     12  \n",
       "13  0.903153     13  \n",
       "14  0.896249     14  "
      ]
     },
     "execution_count": 16,
     "metadata": {},
     "output_type": "execute_result"
    }
   ],
   "source": [
    "df = pd.DataFrame.from_dict(fit_history.history)\n",
    "df['epoch'] = df.index.to_list()\n",
    "df"
   ]
  },
  {
   "cell_type": "code",
   "execution_count": 17,
   "id": "26622827-39af-4c5f-ad16-438584dbf6b0",
   "metadata": {},
   "outputs": [],
   "source": [
    "sc = ScatterPlot(data_set=df,\n",
    "                 aes = {'x':'epoch', 'y':'loss', 'color':\"'training'\"},\n",
    "                 main_title='Binary crossentropy',\n",
    "                 x_label='Epoch',\n",
    "                 y_label='Loss',\n",
    "                 legend_title='',\n",
    "                 line = geom_line()\n",
    "              )\n",
    "\n",
    "sc.add_gg_object(geom_point(df, aes(x = 'epoch', y = 'val_loss', color = \"'validation'\")))\n",
    "sc.add_gg_object(geom_line(df, aes(x = 'epoch', y = 'val_loss', color = \"'validation'\")))"
   ]
  },
  {
   "cell_type": "code",
   "execution_count": null,
   "id": "8e1edbe2-7413-4e9c-b700-49f4f8cdabef",
   "metadata": {},
   "outputs": [],
   "source": [
    "sc.plot"
   ]
  },
  {
   "cell_type": "code",
   "execution_count": null,
   "id": "24479a8f-689f-4da5-9b7f-da91b8c432d4",
   "metadata": {},
   "outputs": [],
   "source": [
    "sc = ScatterPlot(data_set=df,\n",
    "                 aes = {'x':'epoch', 'y':'auc', 'color':\"'training'\"},\n",
    "                 main_title='Area under curve',\n",
    "                 x_label='Epoch',\n",
    "                 y_label='Binary accuracy',\n",
    "                 legend_title='',\n",
    "                 line = geom_line()\n",
    "              )\n",
    "\n",
    "sc.add_gg_object(geom_point(df, aes(x = 'epoch', y = 'val_auc', color = \"'validation'\")))\n",
    "sc.add_gg_object(geom_line(df, aes(x = 'epoch', y = 'val_auc', color = \"'validation'\")))"
   ]
  },
  {
   "cell_type": "code",
   "execution_count": null,
   "id": "e66121bc-93b9-4b87-8d17-4f67a52e07d6",
   "metadata": {},
   "outputs": [],
   "source": [
    "sc.plot + ylim(0,1)"
   ]
  },
  {
   "cell_type": "code",
   "execution_count": null,
   "id": "a344221c-280b-465c-bd2d-3c502b438879",
   "metadata": {},
   "outputs": [],
   "source": [
    "sc = ScatterPlot(data_set=df,\n",
    "                 aes = {'x':'epoch', 'y':'binary_accuracy', 'color':\"'training'\"},\n",
    "                 main_title='Binarry accuracy',\n",
    "                 x_label='Epoch',\n",
    "                 y_label='Binary accuracy',\n",
    "                 legend_title='',\n",
    "                 line = geom_line()\n",
    "              )\n",
    "\n",
    "sc.add_gg_object(geom_point(df, aes(x = 'epoch', y = 'val_binary_accuracy', color = \"'validation'\")))\n",
    "sc.add_gg_object(geom_line(df, aes(x = 'epoch', y = 'val_binary_accuracy', color = \"'validation'\")))"
   ]
  },
  {
   "cell_type": "code",
   "execution_count": null,
   "id": "5fb8dc5f-aa7f-4f15-b443-12047dbb08bd",
   "metadata": {},
   "outputs": [],
   "source": [
    "sc.plot + ylim(0,1)"
   ]
  },
  {
   "cell_type": "code",
   "execution_count": null,
   "id": "320b98e6-9d9e-4065-9c72-caffb56567fd",
   "metadata": {},
   "outputs": [],
   "source": []
  }
 ],
 "metadata": {
  "kernelspec": {
   "display_name": "Python 3 (ipykernel)",
   "language": "python",
   "name": "python3"
  },
  "language_info": {
   "codemirror_mode": {
    "name": "ipython",
    "version": 3
   },
   "file_extension": ".py",
   "mimetype": "text/x-python",
   "name": "python",
   "nbconvert_exporter": "python",
   "pygments_lexer": "ipython3",
   "version": "3.10.11"
  }
 },
 "nbformat": 4,
 "nbformat_minor": 5
}
